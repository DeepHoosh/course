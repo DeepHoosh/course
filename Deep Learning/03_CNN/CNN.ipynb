{
 "cells": [
  {
   "cell_type": "markdown",
   "metadata": {},
   "source": [
    "- `Written By   :` Mazi Boustani\n",
    "- `Date         :` 08/10/2021\n",
    "- `Purpose      :` Step by step introduction into CNN followed by Pytorch example\n",
    "\n",
    "All images captured from: https://youtu.be/AjtX1N_VT9E"
   ]
  },
  {
   "cell_type": "markdown",
   "metadata": {},
   "source": [
    "![images_are_numbers](images/images_are_numbers.png)"
   ]
  },
  {
   "cell_type": "markdown",
   "metadata": {},
   "source": [
    "![tasks_in_computer_vision](images/tasks_in_computer_vision.png)"
   ]
  },
  {
   "cell_type": "markdown",
   "metadata": {},
   "source": [
    "![learning_feature_representations](images/learning_feature_representations.png)"
   ]
  },
  {
   "cell_type": "markdown",
   "metadata": {},
   "source": [
    "## Using Neural Network for computer vision and its limitation"
   ]
  },
  {
   "cell_type": "markdown",
   "metadata": {},
   "source": [
    "![fully_connected_NN](images/fully_connected_NN.png)"
   ]
  },
  {
   "cell_type": "markdown",
   "metadata": {},
   "source": [
    "### Problem using Neural Network for image data\n",
    "To be able to use deep neural networks for image dataset, one approach is to stack all pixels in one image on top of each other to create a 1D array of input features feeding into neural network."
   ]
  },
  {
   "cell_type": "markdown",
   "metadata": {},
   "source": [
    "![NN_limitations](images/NN_limitations.png)"
   ]
  },
  {
   "cell_type": "markdown",
   "metadata": {},
   "source": [
    "### Solution\n",
    "Solution is to let's keep the representation of image as a 2D array of pixel values, and let's not collapse them into 1D array, as in 1D array we lose the spatial information.\n",
    "\n",
    "Because spatial realted pixels in an image are correlated into each other, we are going to use only patche of data (image) connected to one neruon. Means each neruon will only see patch (subset of image) and not the whole image."
   ]
  },
  {
   "cell_type": "markdown",
   "metadata": {},
   "source": [
    "![using_spatial_structure](images/using_spatial_structure1.png)"
   ]
  },
  {
   "cell_type": "markdown",
   "metadata": {},
   "source": [
    "![using_spatial_structure2](images/using_spatial_structure2.png)"
   ]
  },
  {
   "cell_type": "markdown",
   "metadata": {},
   "source": [
    "![feature_extraction_Convolution](images/feature_extraction_Convolution.png)"
   ]
  },
  {
   "cell_type": "markdown",
   "metadata": {},
   "source": [
    "### Kernel (filter)\n",
    "In Convolutional neural network, the kernel is nothing but a filter that is used to extract the features from the images. The kernel is a matrix that moves over the input data, performs the dot product with the sub-region of input data, and gets the output as the matrix of dot products."
   ]
  },
  {
   "cell_type": "markdown",
   "metadata": {},
   "source": [
    "![the_convolution_operation](images/the_convolution_operation.png)"
   ]
  },
  {
   "cell_type": "markdown",
   "metadata": {},
   "source": [
    "![the_conv_operation_1](images/the_conv_operation_1.png)"
   ]
  },
  {
   "cell_type": "markdown",
   "metadata": {},
   "source": [
    "![the_conv_operation_2](images/the_conv_operation_2.png)"
   ]
  },
  {
   "cell_type": "markdown",
   "metadata": {},
   "source": [
    "Effect of different filters on an image:"
   ]
  },
  {
   "cell_type": "markdown",
   "metadata": {},
   "source": [
    "![producing_feature_maps](images/producing_feature_maps.png)"
   ]
  },
  {
   "cell_type": "markdown",
   "metadata": {},
   "source": [
    "## Convolution Nerual Networks (CNNs)\n",
    "The model will learn the weights end to end, from weights of all filters to weights of fully connected layers."
   ]
  },
  {
   "cell_type": "markdown",
   "metadata": {},
   "source": [
    "![CNNs_for_classificasion](images/CNNs_for_classificasion.png)"
   ]
  },
  {
   "cell_type": "markdown",
   "metadata": {},
   "source": [
    "So there are two sets of weights that we are going to train on CNNs:\n",
    "- weights in Convolution (filters)\n",
    "- weights in fully connected layers"
   ]
  },
  {
   "cell_type": "markdown",
   "metadata": {},
   "source": [
    "![convolution_layers_local_connectivity](images/convolution_layers_local_connectivity.png)"
   ]
  },
  {
   "cell_type": "markdown",
   "metadata": {},
   "source": [
    "Width and height depends on the input image size, filter size and stride value. Depth depends on different numbers of filter we use."
   ]
  },
  {
   "cell_type": "markdown",
   "metadata": {},
   "source": [
    "![spatial_arrangement_of_output_volume](images/spatial_arrangement_of_output_volume.png)"
   ]
  },
  {
   "cell_type": "markdown",
   "metadata": {},
   "source": [
    "![cnn_relu](images/cnn_relu.png)"
   ]
  },
  {
   "cell_type": "markdown",
   "metadata": {},
   "source": [
    "### Pooling:\n",
    "The operation is to reduce the dimensionality of our input while still preserving spatial invariance."
   ]
  },
  {
   "cell_type": "markdown",
   "metadata": {},
   "source": [
    "![pooling](images/pooling.png)"
   ]
  },
  {
   "cell_type": "markdown",
   "metadata": {},
   "source": [
    "CNNs has two parts:\n",
    "\n",
    "__1- Feature Learning:__ Extracting features from an image \n",
    "\n",
    "__2- Task action:__ Classification, Object Detection, Segmentation and more"
   ]
  },
  {
   "cell_type": "markdown",
   "metadata": {},
   "source": [
    "![CNN_Feature_learning](images/CNN_Feature_learning.png)"
   ]
  },
  {
   "cell_type": "markdown",
   "metadata": {},
   "source": [
    "![CNN_class_probabilites](images/CNN_class_probabilites.png)"
   ]
  },
  {
   "cell_type": "markdown",
   "metadata": {},
   "source": [
    "![all_code](images/all_code1.png)\n",
    "![all_code](images/all_code2.png)\n",
    "![all_code](images/all_code3.png)"
   ]
  },
  {
   "cell_type": "markdown",
   "metadata": {},
   "source": [
    "![CNN_many_applications](images/CNN_many_applications.png)"
   ]
  },
  {
   "cell_type": "markdown",
   "metadata": {},
   "source": [
    "### Object Detection\n",
    "![object_detection](images/object_detection.jpeg)"
   ]
  },
  {
   "cell_type": "markdown",
   "metadata": {},
   "source": [
    "### Segmentation\n",
    "![segmentation](images/segmentation.png)"
   ]
  },
  {
   "cell_type": "markdown",
   "metadata": {},
   "source": [
    "### Problistic Control\n",
    "![navigation_from_vision](images/navigation_from_vision.png)"
   ]
  },
  {
   "cell_type": "markdown",
   "metadata": {},
   "source": [
    "## Code CNN using Pytorch"
   ]
  },
  {
   "cell_type": "markdown",
   "metadata": {},
   "source": [
    "For this tutorial, we will use the CIFAR10 dataset.\n",
    "It has the classes: ‘airplane’, ‘automobile’, ‘bird’, ‘cat’, ‘deer’,\n",
    "‘dog’, ‘frog’, ‘horse’, ‘ship’, ‘truck’. The images in CIFAR-10 are of\n",
    "size 3x32x32, i.e. 3-channel color images of 32x32 pixels in size."
   ]
  },
  {
   "cell_type": "markdown",
   "metadata": {},
   "source": [
    "We will do the following steps in order:\n",
    "1. Load and normalize the CIFAR10 training and test datasets using\n",
    "   ``torchvision``\n",
    "2. Define a Convolutional Neural Network\n",
    "3. Define a loss function\n",
    "4. Train the network on the training data\n",
    "5. Test the network on the test data"
   ]
  },
  {
   "cell_type": "code",
   "execution_count": 1,
   "metadata": {},
   "outputs": [],
   "source": [
    "import torch\n",
    "import torchvision\n",
    "import torchvision.transforms as transforms\n",
    "import torch.nn as nn\n",
    "import torch.nn.functional as F\n",
    "import torch.optim as optim\n",
    "\n",
    "\n",
    "import matplotlib.pyplot as plt\n",
    "import numpy as np\n"
   ]
  },
  {
   "cell_type": "markdown",
   "metadata": {},
   "source": [
    "### Download CIFAR dataset using `torchvision`"
   ]
  },
  {
   "cell_type": "code",
   "execution_count": 2,
   "metadata": {},
   "outputs": [
    {
     "name": "stdout",
     "output_type": "stream",
     "text": [
      "Files already downloaded and verified\n",
      "Files already downloaded and verified\n"
     ]
    }
   ],
   "source": [
    "# The output of torchvision datasets are PILImage images of range [0, 1].\n",
    "# We transform them to Tensors of normalized range [-1, 1].\n",
    "\n",
    "# TODO: normzalize 0.5 --------------\n",
    "# define image transform\n",
    "transform = transforms.Compose(\n",
    "                                [transforms.ToTensor(),\n",
    "                                transforms.Normalize((0.5, 0.5, 0.5), (0.5, 0.5, 0.5))]\n",
    "                              )\n",
    "\n",
    "batch_size = 4\n",
    "\n",
    "# download train set and transform them\n",
    "trainset = torchvision.datasets.CIFAR10(root='./data', train=True,\n",
    "                                        download=True, transform=transform)\n",
    "\n",
    "trainloader = torch.utils.data.DataLoader(trainset, batch_size=batch_size,\n",
    "                                          shuffle=True, num_workers=2)\n",
    "\n",
    "# download test set and transform them\n",
    "testset = torchvision.datasets.CIFAR10(root='./data', train=False,\n",
    "                                       download=True, transform=transform)\n",
    "\n",
    "testloader = torch.utils.data.DataLoader(testset, batch_size=batch_size,\n",
    "                                         shuffle=False, num_workers=2)\n",
    "\n",
    "# set list of classes\n",
    "classes = ('plane', 'car', 'bird', 'cat', 'deer',\n",
    "           'dog', 'frog', 'horse', 'ship', 'truck')\n"
   ]
  },
  {
   "cell_type": "code",
   "execution_count": 3,
   "metadata": {},
   "outputs": [],
   "source": [
    "def imshow(img):\n",
    "    '''\n",
    "    Function to show an image\n",
    "    '''\n",
    "    # unnormalize\n",
    "    img = img / 2 + 0.5\n",
    "    npimg = img.numpy()\n",
    "    # npimg shape: (3, 36, 138)\n",
    "    npimg_tranpose = np.transpose(npimg, (1, 2, 0))\n",
    "    # npimg_tranpose shape: (36, 138, 3)\n",
    "    plt.imshow(npimg_tranpose)\n",
    "    plt.show()\n",
    "\n"
   ]
  },
  {
   "cell_type": "code",
   "execution_count": 4,
   "metadata": {},
   "outputs": [
    {
     "data": {
      "image/png": "[encoded data removed]",
      "text/plain": [
       "<Figure size 432x288 with 1 Axes>"
      ]
     },
     "metadata": {},
     "output_type": "display_data"
    },
    {
     "name": "stdout",
     "output_type": "stream",
     "text": [
      "horse plane plane plane\n"
     ]
    }
   ],
   "source": [
    "# get some random training images\n",
    "dataiter = iter(trainloader)\n",
    "images, labels = dataiter.next()\n",
    "\n",
    "# show images in grid form\n",
    "imshow(torchvision.utils.make_grid(images))\n",
    "\n",
    "# print labels\n",
    "print(' '.join('%5s' % classes[labels[j]] for j in range(batch_size)))\n"
   ]
  },
  {
   "cell_type": "markdown",
   "metadata": {},
   "source": [
    "### Define a Convolution Nerual Network"
   ]
  },
  {
   "cell_type": "code",
   "execution_count": 5,
   "metadata": {},
   "outputs": [],
   "source": [
    "class CNN(nn.Module):\n",
    "    '''\n",
    "    Define a CNN network\n",
    "    '''\n",
    "    def __init__(self):\n",
    "        super().__init__()\n",
    "        \n",
    "        self.conv1 = nn.Conv2d(3, 16, 3, padding=1)\n",
    "        self.conv2 = nn.Conv2d(16, 32, 3, padding=1)\n",
    "        self.conv3 = nn.Conv2d(32, 64, 3, padding=1)\n",
    "        \n",
    "        self.pool = nn.MaxPool2d(2, 2)\n",
    "        \n",
    "        self.fc1 = nn.Linear(64 * 4 * 4, 512)\n",
    "        self.fc2 = nn.Linear(512, 64)\n",
    "        self.fc3 = nn.Linear(64, 10)\n",
    "        \n",
    "        # dropout\n",
    "        self.dropout = nn.Dropout(p=.5)\n",
    "        \n",
    "    def forward(self, x):\n",
    "        x = self.pool(F.relu(self.conv1(x)))\n",
    "        x = self.pool(F.relu(self.conv2(x)))\n",
    "        x = self.pool(F.relu(self.conv3(x)))\n",
    "\n",
    "        x = torch.flatten(x, 1)\n",
    "        x = self.dropout(F.relu(self.fc1(x)))\n",
    "        x = self.dropout(F.relu(self.fc2(x)))\n",
    "        x = self.fc3(x)\n",
    "        return x\n"
   ]
  },
  {
   "cell_type": "code",
   "execution_count": 6,
   "metadata": {},
   "outputs": [],
   "source": [
    "# define the network\n",
    "cnn_net = CNN()\n"
   ]
  },
  {
   "cell_type": "markdown",
   "metadata": {},
   "source": [
    "### Define a Loss function and optimizer"
   ]
  },
  {
   "cell_type": "code",
   "execution_count": 7,
   "metadata": {},
   "outputs": [],
   "source": [
    "# define the loss function\n",
    "loss_function = nn.CrossEntropyLoss()\n",
    "# define the optimization\n",
    "optimizer = optim.SGD(cnn_net.parameters(), lr=0.001, momentum=0.9)\n"
   ]
  },
  {
   "cell_type": "markdown",
   "metadata": {},
   "source": [
    "### Train the network"
   ]
  },
  {
   "cell_type": "code",
   "execution_count": 8,
   "metadata": {
    "scrolled": true
   },
   "outputs": [
    {
     "name": "stdout",
     "output_type": "stream",
     "text": [
      "[1,  2000] loss: 2.288\n",
      "[1,  4000] loss: 2.113\n",
      "[1,  6000] loss: 1.888\n",
      "[1,  8000] loss: 1.741\n",
      "[1, 10000] loss: 1.667\n",
      "[1, 12000] loss: 1.575\n",
      "[2,  2000] loss: 1.499\n",
      "[2,  4000] loss: 1.464\n",
      "[2,  6000] loss: 1.407\n",
      "[2,  8000] loss: 1.374\n",
      "[2, 10000] loss: 1.336\n",
      "[2, 12000] loss: 1.328\n",
      "[3,  2000] loss: 1.260\n",
      "[3,  4000] loss: 1.216\n",
      "[3,  6000] loss: 1.223\n",
      "[3,  8000] loss: 1.198\n",
      "[3, 10000] loss: 1.202\n",
      "[3, 12000] loss: 1.168\n",
      "[4,  2000] loss: 1.119\n",
      "[4,  4000] loss: 1.069\n",
      "[4,  6000] loss: 1.078\n",
      "[4,  8000] loss: 1.046\n",
      "[4, 10000] loss: 1.070\n",
      "[4, 12000] loss: 1.062\n",
      "[5,  2000] loss: 0.973\n",
      "[5,  4000] loss: 0.972\n",
      "[5,  6000] loss: 0.980\n",
      "[5,  8000] loss: 0.976\n",
      "[5, 10000] loss: 0.985\n",
      "[5, 12000] loss: 0.960\n",
      "[6,  2000] loss: 0.910\n",
      "[6,  4000] loss: 0.892\n",
      "[6,  6000] loss: 0.922\n",
      "[6,  8000] loss: 0.885\n",
      "[6, 10000] loss: 0.915\n",
      "[6, 12000] loss: 0.928\n",
      "[7,  2000] loss: 0.832\n",
      "[7,  4000] loss: 0.845\n",
      "[7,  6000] loss: 0.872\n",
      "[7,  8000] loss: 0.863\n",
      "[7, 10000] loss: 0.866\n",
      "[7, 12000] loss: 0.882\n",
      "[8,  2000] loss: 0.785\n",
      "[8,  4000] loss: 0.816\n",
      "[8,  6000] loss: 0.804\n",
      "[8,  8000] loss: 0.807\n",
      "[8, 10000] loss: 0.839\n",
      "[8, 12000] loss: 0.838\n",
      "[9,  2000] loss: 0.768\n",
      "[9,  4000] loss: 0.755\n",
      "[9,  6000] loss: 0.765\n",
      "[9,  8000] loss: 0.774\n",
      "[9, 10000] loss: 0.778\n",
      "[9, 12000] loss: 0.784\n",
      "[10,  2000] loss: 0.713\n",
      "[10,  4000] loss: 0.720\n",
      "[10,  6000] loss: 0.735\n",
      "[10,  8000] loss: 0.756\n",
      "[10, 10000] loss: 0.760\n",
      "[10, 12000] loss: 0.767\n",
      "[11,  2000] loss: 0.677\n",
      "[11,  4000] loss: 0.709\n",
      "[11,  6000] loss: 0.689\n",
      "[11,  8000] loss: 0.703\n",
      "[11, 10000] loss: 0.719\n",
      "[11, 12000] loss: 0.733\n",
      "[12,  2000] loss: 0.659\n",
      "[12,  4000] loss: 0.662\n",
      "[12,  6000] loss: 0.681\n",
      "[12,  8000] loss: 0.696\n",
      "[12, 10000] loss: 0.709\n",
      "[12, 12000] loss: 0.710\n",
      "[13,  2000] loss: 0.630\n",
      "[13,  4000] loss: 0.636\n",
      "[13,  6000] loss: 0.653\n",
      "[13,  8000] loss: 0.691\n",
      "[13, 10000] loss: 0.686\n",
      "[13, 12000] loss: 0.688\n",
      "[14,  2000] loss: 0.592\n",
      "[14,  4000] loss: 0.597\n",
      "[14,  6000] loss: 0.646\n",
      "[14,  8000] loss: 0.670\n",
      "[14, 10000] loss: 0.653\n",
      "[14, 12000] loss: 0.674\n",
      "[15,  2000] loss: 0.601\n",
      "[15,  4000] loss: 0.591\n",
      "[15,  6000] loss: 0.622\n",
      "[15,  8000] loss: 0.638\n",
      "[15, 10000] loss: 0.666\n",
      "[15, 12000] loss: 0.625\n",
      "[16,  2000] loss: 0.581\n",
      "[16,  4000] loss: 0.585\n",
      "[16,  6000] loss: 0.611\n",
      "[16,  8000] loss: 0.626\n",
      "[16, 10000] loss: 0.644\n",
      "[16, 12000] loss: 0.617\n",
      "[17,  2000] loss: 0.550\n",
      "[17,  4000] loss: 0.579\n",
      "[17,  6000] loss: 0.606\n",
      "[17,  8000] loss: 0.617\n",
      "[17, 10000] loss: 0.588\n",
      "[17, 12000] loss: 0.645\n",
      "[18,  2000] loss: 0.550\n",
      "[18,  4000] loss: 0.550\n",
      "[18,  6000] loss: 0.564\n",
      "[18,  8000] loss: 0.612\n",
      "[18, 10000] loss: 0.612\n",
      "[18, 12000] loss: 0.599\n",
      "[19,  2000] loss: 0.554\n",
      "[19,  4000] loss: 0.550\n",
      "[19,  6000] loss: 0.585\n",
      "[19,  8000] loss: 0.584\n",
      "[19, 10000] loss: 0.588\n",
      "[19, 12000] loss: 0.577\n",
      "[20,  2000] loss: 0.514\n",
      "[20,  4000] loss: 0.573\n",
      "[20,  6000] loss: 0.566\n",
      "[20,  8000] loss: 0.555\n",
      "[20, 10000] loss: 0.573\n",
      "[20, 12000] loss: 0.591\n",
      "[21,  2000] loss: 0.522\n",
      "[21,  4000] loss: 0.555\n",
      "[21,  6000] loss: 0.535\n",
      "[21,  8000] loss: 0.548\n",
      "[21, 10000] loss: 0.547\n",
      "[21, 12000] loss: 0.591\n",
      "[22,  2000] loss: 0.486\n",
      "[22,  4000] loss: 0.525\n",
      "[22,  6000] loss: 0.516\n",
      "[22,  8000] loss: 0.535\n",
      "[22, 10000] loss: 0.574\n",
      "[22, 12000] loss: 0.576\n",
      "[23,  2000] loss: 0.494\n",
      "[23,  4000] loss: 0.512\n",
      "[23,  6000] loss: 0.520\n",
      "[23,  8000] loss: 0.523\n",
      "[23, 10000] loss: 0.588\n",
      "[23, 12000] loss: 0.569\n",
      "[24,  2000] loss: 0.488\n",
      "[24,  4000] loss: 0.511\n",
      "[24,  6000] loss: 0.500\n",
      "[24,  8000] loss: 0.518\n",
      "[24, 10000] loss: 0.540\n",
      "[24, 12000] loss: 0.583\n",
      "[25,  2000] loss: 0.496\n",
      "[25,  4000] loss: 0.503\n",
      "[25,  6000] loss: 0.529\n",
      "[25,  8000] loss: 0.525\n",
      "[25, 10000] loss: 0.540\n",
      "[25, 12000] loss: 0.535\n",
      "[26,  2000] loss: 0.496\n",
      "[26,  4000] loss: 0.520\n",
      "[26,  6000] loss: 0.502\n",
      "[26,  8000] loss: 0.544\n",
      "[26, 10000] loss: 0.537\n",
      "[26, 12000] loss: 0.548\n",
      "[27,  2000] loss: 0.505\n",
      "[27,  4000] loss: 0.502\n",
      "[27,  6000] loss: 0.483\n",
      "[27,  8000] loss: 0.512\n",
      "[27, 10000] loss: 0.532\n",
      "[27, 12000] loss: 0.525\n",
      "[28,  2000] loss: 0.495\n",
      "[28,  4000] loss: 0.464\n",
      "[28,  6000] loss: 0.494\n",
      "[28,  8000] loss: 0.485\n",
      "[28, 10000] loss: 0.528\n",
      "[28, 12000] loss: 0.531\n",
      "[29,  2000] loss: 0.484\n",
      "[29,  4000] loss: 0.480\n",
      "[29,  6000] loss: 0.504\n",
      "[29,  8000] loss: 0.496\n",
      "[29, 10000] loss: 0.485\n",
      "[29, 12000] loss: 0.543\n",
      "[30,  2000] loss: 0.449\n",
      "[30,  4000] loss: 0.448\n",
      "[30,  6000] loss: 0.497\n",
      "[30,  8000] loss: 0.480\n",
      "[30, 10000] loss: 0.486\n",
      "[30, 12000] loss: 0.501\n",
      "Finished Training\n"
     ]
    }
   ],
   "source": [
    "num_epochs = 30\n",
    "\n",
    "for epoch in range(num_epochs):\n",
    "\n",
    "    running_loss = 0.0\n",
    "    \n",
    "    # get each train data one by one\n",
    "    for i, data in enumerate(trainloader, 0):\n",
    "        \n",
    "        # get inputs and labels from one datapoint\n",
    "        inputs, labels = data\n",
    "        \n",
    "        # zero the parameter gradients\n",
    "        optimizer.zero_grad()\n",
    "        \n",
    "        # forward the network\n",
    "        output = cnn_net(inputs)\n",
    "        \n",
    "        # calculate the loss\n",
    "        loss = loss_function(output, labels)\n",
    "        \n",
    "        # backward the network\n",
    "        loss.backward()\n",
    "        \n",
    "        # optimize the network\n",
    "        optimizer.step()\n",
    "        \n",
    "        # print statistics every 2000 mini batches\n",
    "        running_loss += loss.item()\n",
    "        if i % 2000 == 1999:\n",
    "            print('[%d, %5d] loss: %.3f' % (epoch + 1, i + 1, running_loss / 2000))\n",
    "            running_loss = 0.0\n",
    "\n",
    "print('Finished Training')\n"
   ]
  },
  {
   "cell_type": "markdown",
   "metadata": {},
   "source": [
    "### save our trained model"
   ]
  },
  {
   "cell_type": "code",
   "execution_count": 9,
   "metadata": {},
   "outputs": [],
   "source": [
    "PATH = './cifar_net.pth'\n",
    "torch.save(cnn_net.state_dict(), PATH)\n"
   ]
  },
  {
   "cell_type": "markdown",
   "metadata": {},
   "source": [
    "### Test the network on the test data"
   ]
  },
  {
   "cell_type": "code",
   "execution_count": 10,
   "metadata": {},
   "outputs": [
    {
     "data": {
      "image/png": "[encoded data removed]",
      "text/plain": [
       "<Figure size 432x288 with 1 Axes>"
      ]
     },
     "metadata": {},
     "output_type": "display_data"
    },
    {
     "name": "stdout",
     "output_type": "stream",
     "text": [
      "GroundTruth:    cat  ship  ship plane\n"
     ]
    }
   ],
   "source": [
    "# get next test data\n",
    "dataiter = iter(testloader)\n",
    "images, labels = dataiter.next()\n",
    "\n",
    "# print images\n",
    "imshow(torchvision.utils.make_grid(images))\n",
    "print('GroundTruth: ', ' '.join('%5s' % classes[labels[j]] for j in range(4)))\n"
   ]
  },
  {
   "cell_type": "markdown",
   "metadata": {},
   "source": [
    "### load back in our saved model"
   ]
  },
  {
   "cell_type": "code",
   "execution_count": 11,
   "metadata": {},
   "outputs": [
    {
     "data": {
      "text/plain": [
       "<All keys matched successfully>"
      ]
     },
     "execution_count": 11,
     "metadata": {},
     "output_type": "execute_result"
    }
   ],
   "source": [
    "cnn_net = CNN()\n",
    "cnn_net.load_state_dict(torch.load(PATH))\n"
   ]
  },
  {
   "cell_type": "code",
   "execution_count": 12,
   "metadata": {},
   "outputs": [],
   "source": [
    "outputs = cnn_net(images)\n"
   ]
  },
  {
   "cell_type": "code",
   "execution_count": 13,
   "metadata": {},
   "outputs": [
    {
     "name": "stdout",
     "output_type": "stream",
     "text": [
      "Predicted:    cat  ship  ship plane\n"
     ]
    }
   ],
   "source": [
    "_, predicted = torch.max(outputs, 1)\n",
    "\n",
    "print('Predicted: ', ' '.join('%5s' % classes[predicted[j]] for j in range(4)))\n"
   ]
  },
  {
   "cell_type": "markdown",
   "metadata": {},
   "source": [
    "### Let us look at how the network performs on the whole dataset."
   ]
  },
  {
   "cell_type": "code",
   "execution_count": 14,
   "metadata": {},
   "outputs": [
    {
     "name": "stdout",
     "output_type": "stream",
     "text": [
      "Accuracy of the network on the 10000 test images: 68%\n"
     ]
    }
   ],
   "source": [
    "correct = 0\n",
    "total = 0\n",
    "\n",
    "# since we're not training, we don't need to calculate the gradients for our outputs\n",
    "with torch.no_grad():\n",
    "    for data in testloader:\n",
    "        images, labels = data\n",
    "        # calculate outputs by running images through the network \n",
    "        outputs = cnn_net(images)\n",
    "        # the class with the highest energy is what we choose as prediction\n",
    "        _, predicted = torch.max(outputs.data, 1)\n",
    "        total += labels.size(0)\n",
    "        correct += (predicted == labels).sum().item()\n",
    "\n",
    "print('Accuracy of the network on the 10000 test images: %d%%' % (100 * correct / total))\n"
   ]
  },
  {
   "cell_type": "code",
   "execution_count": 15,
   "metadata": {},
   "outputs": [
    {
     "name": "stdout",
     "output_type": "stream",
     "text": [
      "Accuracy for class plane is: 82.3 %\n",
      "Accuracy for class car   is: 80.3 %\n",
      "Accuracy for class bird  is: 59.3 %\n",
      "Accuracy for class cat   is: 44.2 %\n",
      "Accuracy for class deer  is: 70.1 %\n",
      "Accuracy for class dog   is: 53.8 %\n",
      "Accuracy for class frog  is: 78.5 %\n",
      "Accuracy for class horse is: 69.2 %\n",
      "Accuracy for class ship  is: 81.5 %\n",
      "Accuracy for class truck is: 72.3 %\n"
     ]
    }
   ],
   "source": [
    "# prepare to count predictions for each class\n",
    "correct_pred = {classname: 0 for classname in classes}\n",
    "total_pred = {classname: 0 for classname in classes}\n",
    "\n",
    "# again no gradients needed\n",
    "with torch.no_grad():\n",
    "    for data in testloader:\n",
    "        images, labels = data    \n",
    "        outputs = cnn_net(images)    \n",
    "        _, predictions = torch.max(outputs, 1)\n",
    "        # collect the correct predictions for each class\n",
    "        for label, prediction in zip(labels, predictions):\n",
    "            if label == prediction:\n",
    "                correct_pred[classes[label]] += 1\n",
    "            total_pred[classes[label]] += 1\n",
    "\n",
    "# print accuracy for each class\n",
    "for classname, correct_count in correct_pred.items():\n",
    "    accuracy = 100 * float(correct_count) / total_pred[classname]\n",
    "    print(\"Accuracy for class {:5s} is: {:.1f} %\".format(classname, accuracy))\n"
   ]
  },
  {
   "cell_type": "markdown",
   "metadata": {},
   "source": [
    "source: https://pytorch.org/tutorials/beginner/blitz/cifar10_tutorial.html"
   ]
  },
  {
   "cell_type": "code",
   "execution_count": null,
   "metadata": {},
   "outputs": [],
   "source": []
  }
 ],
 "metadata": {
  "kernelspec": {
   "display_name": "Python 3",
   "language": "python",
   "name": "python3"
  },
  "language_info": {
   "codemirror_mode": {
    "name": "ipython",
    "version": 3
   },
   "file_extension": ".py",
   "mimetype": "text/x-python",
   "name": "python",
   "nbconvert_exporter": "python",
   "pygments_lexer": "ipython3",
   "version": "3.7.0b2"
  }
 },
 "nbformat": 4,
 "nbformat_minor": 2
}
