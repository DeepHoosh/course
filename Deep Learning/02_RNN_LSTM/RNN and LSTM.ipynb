{
 "cells": [
  {
   "cell_type": "markdown",
   "metadata": {},
   "source": [
    "- `Written By   :` Mazi Boustani\n",
    "- `Date         :` 08/05/2021\n",
    "- `Purpose      :` Step by step introduction into RNN and LSTM followed by Pytorch example\n",
    "\n",
    "All images captured from: https://youtu.be/qjrad0V0uJE"
   ]
  },
  {
   "cell_type": "markdown",
   "metadata": {},
   "source": [
    "## Sequential data"
   ]
  },
  {
   "cell_type": "markdown",
   "metadata": {},
   "source": [
    "Sequential data are kind of data were the order of the data matters.\n",
    "\n",
    "Whenever the points in the dataset are dependent on the other points in the dataset.\n",
    "\n",
    "Examples:\n",
    "    - Time serices data: stock market, weather\n",
    "    - Language data: such as words in a sentence\n",
    "    - Boiological data: such as DNA sequence \n",
    "    "
   ]
  },
  {
   "cell_type": "markdown",
   "metadata": {},
   "source": [
    "![Sequence Modeling Applications](images/sequence_modeling_applications.png)"
   ]
  },
  {
   "cell_type": "markdown",
   "metadata": {},
   "source": [
    "## Problem with NN and sequence data\n",
    "\n",
    "Neural networks and deep neural networks are not good at sequence data as their architecture cannot preserve the sequence of data.\n",
    "\n",
    "__1- They have a fixed input length.__ That means all data being feeded into NN has to be always same size (like number of pixels in a photo). For examples, sentences with different number of words cannot be feeded into NN.\n",
    "\n",
    "__2- They can not remember the sequence of the data.__ NN can not remember the order of data. NN would deal with these two data points as same \"it is cold, not hot\" and \"it is hot, not cold\".\n",
    "\n",
    "__3- Can not share parameters across the sequence.__ So for example in sentence \"What is your car? My car is Benz\" NN should be able to tell how many times \"car\" repeated in a sentence but it does not recognize this type of pattern\n",
    "\n",
    " So we need Recurrent Neural Networks (RNN)"
   ]
  },
  {
   "cell_type": "markdown",
   "metadata": {},
   "source": [
    "## Recurrent Neural Network (RNN)"
   ]
  },
  {
   "cell_type": "markdown",
   "metadata": {},
   "source": [
    "RNNs are designed in a way to fix some of problems that traditional neural networks have such as three problems above. \n",
    "\n",
    "The difference between simple NN and RNN is that simple NN is unidirectional, which means it has only one direction.\n",
    "But RNN, has loops inside it to persist the information over time and preserves the information."
   ]
  },
  {
   "cell_type": "markdown",
   "metadata": {},
   "source": [
    "![Feed-Forward_Network](images/Feed-Forward_Network.png)\n"
   ]
  },
  {
   "cell_type": "markdown",
   "metadata": {},
   "source": [
    "![handeling_individual_time_steps](images/handeling_individual_time_steps.png )"
   ]
  },
  {
   "cell_type": "markdown",
   "metadata": {},
   "source": [
    "![Neurons_with_Recurrence](images/Neurons_with_Recurrence.png)"
   ]
  },
  {
   "cell_type": "markdown",
   "metadata": {},
   "source": [
    "![RNN_State_Update_and_Output](images/RNN_State_Update_and_Output.png)"
   ]
  },
  {
   "cell_type": "markdown",
   "metadata": {},
   "source": [
    "RNN is training three weight matrices __Wxh__, __Whh__ and __Why__. These three matrices are same for each data point and only being updated though backpropagation process.\n",
    "\n",
    "\n",
    "__Wxh:__ is the weight matrix that is applied at every timestamp to the input value\n",
    "\n",
    "__Whh:__ is the weight matrix by which you update the previous state.\n",
    "\n",
    "__Why:__ is the weight matrix that is applied at every timestamp to hidden state.\n"
   ]
  },
  {
   "cell_type": "markdown",
   "metadata": {},
   "source": [
    "![Standard RNN](images/Standard RNN.png)"
   ]
  },
  {
   "cell_type": "markdown",
   "metadata": {},
   "source": [
    "In RNN Since errors are calculated and are backpropagated at each timestamp it is called `Backpropagation Through Time`"
   ]
  },
  {
   "cell_type": "markdown",
   "metadata": {},
   "source": [
    "![RNN_Backprop_through_time](images/RNN_Backprop_through_time.png)"
   ]
  },
  {
   "cell_type": "markdown",
   "metadata": {},
   "source": [
    "Computing the gradients require a lot of factors of __Whh__ plus repeated gradient computations, which makes two set of problems. The 2 problems are in RNN, which LSTM helps solve: \n",
    "\n",
    "__1- Exploding Gradients:__ when many of the values, that are involved in the repeated gradient computations (such as weight matrix, or gradient themselves), are greater than 1. In this problem the gradients become extremely large, and it is very hard to optimize them. \n",
    "\n",
    "This problem can be solved via a process known as __Gradient Clipping__, which essentially scales back the gradient to smaller values.\n",
    "\n",
    "\n",
    "__2- Vanishing Gradients:__ when many of the values that are involved in the repeated gradient computations (such as weight matrix, or gradient themselves) are too small or less than 1. In this problem the gradients become smaller and smaller as these computations occur repeatedly."
   ]
  },
  {
   "cell_type": "markdown",
   "metadata": {},
   "source": [
    "![Standard_RNN_Gradient_Flow_Vanishing](images/Standard_RNN_Gradient_Flow_Vanishing.png)"
   ]
  },
  {
   "cell_type": "markdown",
   "metadata": {},
   "source": [
    "__Solution #1: Activation Function__\n",
    "Using ReLU instead of `tanh`. ReLu's derivate for values above 0 is always 1.\n",
    "\n",
    "__Solution #2: Parameter Initialization__\n",
    "- initialize weights to identity matrix\n",
    "- initialize biases to zero\n",
    "\n",
    "These solutions help prevent the weights from shrinking to zero."
   ]
  },
  {
   "cell_type": "markdown",
   "metadata": {},
   "source": [
    "## LSTM\n",
    "\n",
    "LSTMs are a special type Recurrent Neural Networks (RNNs). LSTM solves the vanishing gradients issue that RNN has. \n",
    "\n",
    "LSTMs are best suited for long term dependencies, it can hold more memory."
   ]
  },
  {
   "cell_type": "markdown",
   "metadata": {},
   "source": [
    "![LSTM_1](images/LSTM_1.png)\n"
   ]
  },
  {
   "cell_type": "markdown",
   "metadata": {},
   "source": [
    "![LSTM](images/LSTM.png)"
   ]
  },
  {
   "cell_type": "markdown",
   "metadata": {},
   "source": [
    "The key building block behind LSTM is a structure known as gates. Information is added or removed through these gate.\n",
    "\n",
    "Because sigmoid function is force any value to be between 0-1 it acts like a gate, 0 means nothing or 1 means everything.\n"
   ]
  },
  {
   "cell_type": "markdown",
   "metadata": {},
   "source": [
    "![LSTM_Gate](images/LSTM_Gate.png)"
   ]
  },
  {
   "cell_type": "markdown",
   "metadata": {},
   "source": [
    "### LSTM steps:\n",
    "\n",
    "__Forget:__ To decide which information the LSTM should keep or carry, and which information it should throw away. \n",
    "\n",
    "__Store:__ What part of new and old information is important to store in new state\n",
    "\n",
    "__Update:__ To update the second cell state `ct`\n",
    "\n",
    "__Ouput:__ To control what information send to next step `ht` and output `Yt`\n",
    "\n"
   ]
  },
  {
   "cell_type": "markdown",
   "metadata": {},
   "source": [
    "![LSTM_forget](images/LSTM_forget.png)\n"
   ]
  },
  {
   "cell_type": "markdown",
   "metadata": {},
   "source": [
    "![LSTM_store](images/LSTM_store.png)"
   ]
  },
  {
   "cell_type": "markdown",
   "metadata": {},
   "source": [
    "![LSTM_update](images/LSTM_update.png)"
   ]
  },
  {
   "cell_type": "markdown",
   "metadata": {},
   "source": [
    "![LSTM_output](images/LSTM_output.png)"
   ]
  },
  {
   "cell_type": "markdown",
   "metadata": {},
   "source": [
    "# LSTM Code"
   ]
  },
  {
   "cell_type": "markdown",
   "metadata": {},
   "source": [
    "In this example we use Starbuckss stock market price. The goal is to predict the Volume of Starbucks' stock price."
   ]
  },
  {
   "cell_type": "code",
   "execution_count": 1,
   "metadata": {},
   "outputs": [],
   "source": [
    "import numpy as np\n",
    "import pandas as pd\n",
    "import matplotlib.pyplot as plt\n",
    "from sklearn.preprocessing import StandardScaler, MinMaxScaler\n",
    "\n",
    "import torch\n",
    "import torch.nn as nn\n",
    "from torch.autograd import Variable\n",
    "\n",
    "# for plotting\n",
    "from pandas.plotting import register_matplotlib_converters\n",
    "register_matplotlib_converters()\n"
   ]
  },
  {
   "cell_type": "markdown",
   "metadata": {},
   "source": [
    "## Download dataset\n",
    "You can get the data from this link: https://query1.finance.yahoo.com/v7/finance/download/SBUX?period1=1576063151&period2=1607685551&interval=1d&events=history&includeAdjustedClose=true\n",
    "    "
   ]
  },
  {
   "cell_type": "markdown",
   "metadata": {},
   "source": [
    "## Data Preparation"
   ]
  },
  {
   "cell_type": "code",
   "execution_count": 2,
   "metadata": {},
   "outputs": [],
   "source": [
    "# read csv file using Pandas library and set the Date column as index column and parse the Date column\n",
    "data = pd.read_csv('./data/SBUX.csv', index_col='Date', parse_dates=True)\n"
   ]
  },
  {
   "cell_type": "markdown",
   "metadata": {},
   "source": [
    "### Get familiar with data"
   ]
  },
  {
   "cell_type": "code",
   "execution_count": 3,
   "metadata": {},
   "outputs": [
    {
     "name": "stdout",
     "output_type": "stream",
     "text": [
      "(253, 6)\n"
     ]
    },
    {
     "data": {
      "text/html": [
       "<div>\n",
       "<style scoped>\n",
       "    .dataframe tbody tr th:only-of-type {\n",
       "        vertical-align: middle;\n",
       "    }\n",
       "\n",
       "    .dataframe tbody tr th {\n",
       "        vertical-align: top;\n",
       "    }\n",
       "\n",
       "    .dataframe thead th {\n",
       "        text-align: right;\n",
       "    }\n",
       "</style>\n",
       "<table border=\"1\" class=\"dataframe\">\n",
       "  <thead>\n",
       "    <tr style=\"text-align: right;\">\n",
       "      <th></th>\n",
       "      <th>Open</th>\n",
       "      <th>High</th>\n",
       "      <th>Low</th>\n",
       "      <th>Close</th>\n",
       "      <th>Adj Close</th>\n",
       "      <th>Volume</th>\n",
       "    </tr>\n",
       "    <tr>\n",
       "      <th>Date</th>\n",
       "      <th></th>\n",
       "      <th></th>\n",
       "      <th></th>\n",
       "      <th></th>\n",
       "      <th></th>\n",
       "      <th></th>\n",
       "    </tr>\n",
       "  </thead>\n",
       "  <tbody>\n",
       "    <tr>\n",
       "      <th>2019-12-11</th>\n",
       "      <td>86.260002</td>\n",
       "      <td>86.870003</td>\n",
       "      <td>85.849998</td>\n",
       "      <td>86.589996</td>\n",
       "      <td>84.145752</td>\n",
       "      <td>4921900</td>\n",
       "    </tr>\n",
       "    <tr>\n",
       "      <th>2019-12-12</th>\n",
       "      <td>88.000000</td>\n",
       "      <td>88.889999</td>\n",
       "      <td>87.540001</td>\n",
       "      <td>88.209999</td>\n",
       "      <td>85.720032</td>\n",
       "      <td>10282100</td>\n",
       "    </tr>\n",
       "    <tr>\n",
       "      <th>2019-12-13</th>\n",
       "      <td>88.019997</td>\n",
       "      <td>88.790001</td>\n",
       "      <td>87.580002</td>\n",
       "      <td>88.669998</td>\n",
       "      <td>86.167046</td>\n",
       "      <td>6714100</td>\n",
       "    </tr>\n",
       "    <tr>\n",
       "      <th>2019-12-16</th>\n",
       "      <td>89.139999</td>\n",
       "      <td>89.300003</td>\n",
       "      <td>88.430000</td>\n",
       "      <td>88.779999</td>\n",
       "      <td>86.273941</td>\n",
       "      <td>6705600</td>\n",
       "    </tr>\n",
       "    <tr>\n",
       "      <th>2019-12-17</th>\n",
       "      <td>88.870003</td>\n",
       "      <td>88.970001</td>\n",
       "      <td>87.470001</td>\n",
       "      <td>88.129997</td>\n",
       "      <td>85.642288</td>\n",
       "      <td>7296900</td>\n",
       "    </tr>\n",
       "  </tbody>\n",
       "</table>\n",
       "</div>"
      ],
      "text/plain": [
       "                 Open       High        Low      Close  Adj Close    Volume\n",
       "Date                                                                       \n",
       "2019-12-11  86.260002  86.870003  85.849998  86.589996  84.145752   4921900\n",
       "2019-12-12  88.000000  88.889999  87.540001  88.209999  85.720032  10282100\n",
       "2019-12-13  88.019997  88.790001  87.580002  88.669998  86.167046   6714100\n",
       "2019-12-16  89.139999  89.300003  88.430000  88.779999  86.273941   6705600\n",
       "2019-12-17  88.870003  88.970001  87.470001  88.129997  85.642288   7296900"
      ]
     },
     "execution_count": 3,
     "metadata": {},
     "output_type": "execute_result"
    }
   ],
   "source": [
    "print(data.shape)\n",
    "data.head()\n"
   ]
  },
  {
   "cell_type": "code",
   "execution_count": 4,
   "metadata": {},
   "outputs": [
    {
     "data": {
      "text/plain": [
       "[<matplotlib.lines.Line2D at 0x7ff6b24b3b38>]"
      ]
     },
     "execution_count": 4,
     "metadata": {},
     "output_type": "execute_result"
    },
    {
     "data": {
      "image/png": "[encoded data removed]",
      "text/plain": [
       "<Figure size 432x288 with 1 Axes>"
      ]
     },
     "metadata": {},
     "output_type": "display_data"
    }
   ],
   "source": [
    "plt.title(\"Starbucks Stock Volume\")\n",
    "plt.plot(data['Volume'])\n"
   ]
  },
  {
   "cell_type": "markdown",
   "metadata": {},
   "source": [
    "### Data preprocessing"
   ]
  },
  {
   "cell_type": "code",
   "execution_count": 5,
   "metadata": {},
   "outputs": [],
   "source": [
    "# Get all columns except Volume and Date\n",
    "X = data[['Open', 'High', 'Low', 'Close', 'Adj Close']]\n",
    "\n",
    "# Get only Volume column as input data\n",
    "y = data['Volume']\n",
    "y = y.values.reshape(y.shape[0], 1)\n"
   ]
  },
  {
   "cell_type": "markdown",
   "metadata": {},
   "source": [
    "When numerical input variables are scaled to a standard range machine learning algorithms perform better.\n",
    "\n",
    "The two most popular techniques for __scaling__ numerical data prior to modeling are __normalization__ and __standardization__.\n",
    "\n",
    "__Normalization__ also helps gradient descent to converge faster. Subtract each value by min and divide by range value. Values will be between 0 and 1. (MinMaxScalar)\n",
    "\n",
    "`y = (x – min) / (max – min)`\n",
    "\n",
    "__Standardizing__ a dataset involves rescaling the distribution of values so that the mean of observed values is 0 and the standard deviation is 1.\n",
    "\n",
    "`y = (x – mean) / standard_deviation`\n",
    "\n",
    "Notice that it is a regression problem, so it is very beneficial to scale your outputs otherwise you will be dealing with a huge loss.\n"
   ]
  },
  {
   "cell_type": "code",
   "execution_count": 6,
   "metadata": {},
   "outputs": [],
   "source": [
    "ss = StandardScaler() \n",
    "mm = MinMaxScaler()\n",
    "\n",
    "X_ss = ss.fit_transform(X)\n",
    "y_mm = mm.fit_transform(y)\n"
   ]
  },
  {
   "cell_type": "code",
   "execution_count": 7,
   "metadata": {},
   "outputs": [],
   "source": [
    "# split data for training and test.\n",
    "# we cannot shuffle data since the this\n",
    "# is sequential data and the order is importand\n",
    "\n",
    "# 200 for train and 53 for test\n",
    "\n",
    "X_train = X_ss[:200, :]\n",
    "X_test = X_ss[200:, :]\n",
    "\n",
    "y_train = y_mm[:200, :]\n",
    "y_test = y_mm[200:, :]\n"
   ]
  },
  {
   "cell_type": "code",
   "execution_count": 8,
   "metadata": {},
   "outputs": [
    {
     "name": "stdout",
     "output_type": "stream",
     "text": [
      "Training Shape (200, 5) (200, 1)\n",
      "Testing Shape (53, 5) (53, 1)\n"
     ]
    }
   ],
   "source": [
    "print(\"Training Shape\", X_train.shape, y_train.shape)\n",
    "print(\"Testing Shape\", X_test.shape, y_test.shape)\n"
   ]
  },
  {
   "cell_type": "code",
   "execution_count": 9,
   "metadata": {},
   "outputs": [],
   "source": [
    "# convert all train and test numpy array to tensor format\n",
    "X_train_tensors = Variable(torch.Tensor(X_train))\n",
    "X_test_tensors = Variable(torch.Tensor(X_test))\n",
    "\n",
    "y_train_tensors = Variable(torch.Tensor(y_train))\n",
    "y_test_tensors = Variable(torch.Tensor(y_test))\n"
   ]
  },
  {
   "cell_type": "code",
   "execution_count": 10,
   "metadata": {},
   "outputs": [],
   "source": [
    "# reshaping to rows, timestamps, features\n",
    "X_train_tensors_final = torch.reshape(X_train_tensors, (X_train_tensors.shape[0], 1, X_train_tensors.shape[1]))\n",
    "X_test_tensors_final = torch.reshape(X_test_tensors, (X_test_tensors.shape[0], 1, X_test_tensors.shape[1]))\n"
   ]
  },
  {
   "cell_type": "code",
   "execution_count": 11,
   "metadata": {},
   "outputs": [
    {
     "name": "stdout",
     "output_type": "stream",
     "text": [
      "Training Shape torch.Size([200, 1, 5]) torch.Size([200, 1])\n",
      "Testing Shape torch.Size([53, 1, 5]) torch.Size([53, 1])\n"
     ]
    }
   ],
   "source": [
    "print(\"Training Shape\", X_train_tensors_final.shape, y_train_tensors.shape)\n",
    "print(\"Testing Shape\", X_test_tensors_final.shape, y_test_tensors.shape)\n"
   ]
  },
  {
   "cell_type": "code",
   "execution_count": 12,
   "metadata": {},
   "outputs": [],
   "source": [
    "# define LSTM Class\n",
    "class LSTM(nn.Module):\n",
    "    def __init__(self, input_size, hidden_size, num_layers, seq_length):\n",
    "        super(LSTM, self).__init__()\n",
    "        # number of layers\n",
    "        self.num_layers = num_layers\n",
    "        # input size\n",
    "        self.input_size = input_size\n",
    "        # hidden state\n",
    "        self.hidden_size = hidden_size\n",
    "        # sequence length\n",
    "        self.seq_length = seq_length\n",
    "        \n",
    "        # construct LSTM from Pytorch\n",
    "        self.lstm = nn.LSTM(input_size=input_size,\n",
    "                            hidden_size=hidden_size,\n",
    "                            num_layers=num_layers,\n",
    "                            batch_first=True)\n",
    "\n",
    "        # fully connected 1\n",
    "        self.fc_1 = nn.Linear(hidden_size, 128)\n",
    "        \n",
    "        # fully connected last layer\n",
    "        self.fc = nn.Linear(128, 1)\n",
    "\n",
    "        # activation function ad ReLu\n",
    "        self.relu = nn.ReLU()\n",
    "\n",
    "        \n",
    "    def forward(self, x):\n",
    "        \n",
    "        # define hidden state h\n",
    "        h_0 = Variable(torch.zeros(self.num_layers, x.size(0), self.hidden_size))\n",
    "        # define internal state c\n",
    "        c_0 = Variable(torch.zeros(self.num_layers, x.size(0), self.hidden_size))\n",
    "\n",
    "        # Propagate input through LSTM\n",
    "        output, (hn, cn) = self.lstm(x, (h_0, c_0)) #lstm with input, hidden, and internal state\n",
    "        hn = hn.view(-1, self.hidden_size) #reshaping the data for dense layer next\n",
    "        \n",
    "        output = output[:, -1, :]\n",
    "        # relu\n",
    "        output = self.relu(output)\n",
    "        # first dense layer\n",
    "        output = self.fc_1(output)\n",
    "        # relu\n",
    "        output = self.relu(output)\n",
    "        # final output\n",
    "        output = self.fc(output)\n",
    "\n",
    "        return output\n"
   ]
  },
  {
   "cell_type": "code",
   "execution_count": 13,
   "metadata": {},
   "outputs": [],
   "source": [
    "# number of epochs to run\n",
    "num_epochs = 1000\n",
    "\n",
    "# learning rate value\n",
    "learning_rate = 0.001\n",
    "\n",
    "# number of features ['Open', 'High', 'Low', 'Close', 'Adj Close']\n",
    "input_size = 5\n",
    "\n",
    "# number of features in hidden state\n",
    "hidden_size = 2\n",
    "\n",
    "# number of stacked lstm layers\n",
    "num_layers = 1\n"
   ]
  },
  {
   "cell_type": "code",
   "execution_count": 14,
   "metadata": {},
   "outputs": [],
   "source": [
    "# call main LSTM class\n",
    "lstm = LSTM(input_size,\n",
    "            hidden_size,\n",
    "            num_layers,\n",
    "            X_train_tensors_final.shape[1])\n"
   ]
  },
  {
   "cell_type": "code",
   "execution_count": 15,
   "metadata": {},
   "outputs": [],
   "source": [
    "# set loss function as mean-squared error for regression\n",
    "loss_func = torch.nn.MSELoss()\n",
    "\n",
    "# set optimizer as Adam\n",
    "optimizer = torch.optim.Adam(lstm.parameters(), lr=learning_rate)\n"
   ]
  },
  {
   "cell_type": "code",
   "execution_count": 16,
   "metadata": {},
   "outputs": [
    {
     "name": "stdout",
     "output_type": "stream",
     "text": [
      "Epoch: 0, loss: 0.05596\n",
      "Epoch: 100, loss: 0.01837\n",
      "Epoch: 200, loss: 0.01471\n",
      "Epoch: 300, loss: 0.01305\n",
      "Epoch: 400, loss: 0.01175\n",
      "Epoch: 500, loss: 0.01123\n",
      "Epoch: 600, loss: 0.01103\n",
      "Epoch: 700, loss: 0.01086\n",
      "Epoch: 800, loss: 0.01072\n",
      "Epoch: 900, loss: 0.01060\n"
     ]
    }
   ],
   "source": [
    "# train the network for each epoch\n",
    "for epoch in range(num_epochs):\n",
    "    \n",
    "    # set gradient to 0\n",
    "    optimizer.zero_grad()\n",
    "    \n",
    "    # forward pass\n",
    "    outputs = lstm.forward(X_train_tensors_final)\n",
    " \n",
    "    # get the loss function\n",
    "    loss = loss_func(outputs, y_train_tensors)\n",
    "    \n",
    "    # backward pass\n",
    "    loss.backward()\n",
    " \n",
    "    # improve weights(backpropagation)\n",
    "    optimizer.step()\n",
    "    \n",
    "    # for every 100 epochs show loss value.\n",
    "    if epoch % 100 == 0:\n",
    "        print(\"Epoch: %d, loss: %1.5f\" % (epoch, loss.item()))\n"
   ]
  },
  {
   "cell_type": "markdown",
   "metadata": {},
   "source": [
    "## Prediction\n",
    "Run predictions on the enite dataset.\n",
    "Before running prediction on entire dataset we need to bring the original dataset into the model suitable format, which can be done by using similar code as above."
   ]
  },
  {
   "cell_type": "code",
   "execution_count": 17,
   "metadata": {},
   "outputs": [],
   "source": [
    "df_X_ss = ss.transform(data[['Open', 'High', 'Low', 'Close', 'Adj Close']]) #old transformers\n",
    "df_y_mm = mm.transform(data.iloc[:, -1:]) #old transformers\n",
    "\n",
    "df_X_ss = Variable(torch.Tensor(df_X_ss)) #converting to Tensors\n",
    "df_y_mm = Variable(torch.Tensor(df_y_mm))\n",
    "\n",
    "#reshaping the dataset\n",
    "df_X_ss = torch.reshape(df_X_ss, (df_X_ss.shape[0], 1, df_X_ss.shape[1])) \n",
    "\n"
   ]
  },
  {
   "cell_type": "code",
   "execution_count": 18,
   "metadata": {},
   "outputs": [],
   "source": [
    "train_predict = lstm(df_X_ss) #forward pass\n",
    "data_predict = train_predict.data.numpy() #numpy conversion\n",
    "dataY_plot = df_y_mm.data.numpy()\n",
    "\n",
    "data_predict = mm.inverse_transform(data_predict) #reverse transformation\n",
    "dataY_plot = mm.inverse_transform(dataY_plot)\n"
   ]
  },
  {
   "cell_type": "markdown",
   "metadata": {},
   "source": [
    "## Visualize the result"
   ]
  },
  {
   "cell_type": "code",
   "execution_count": 19,
   "metadata": {},
   "outputs": [
    {
     "data": {
      "image/png": "[encoded data removed]",
      "text/plain": [
       "<Figure size 720x432 with 1 Axes>"
      ]
     },
     "metadata": {},
     "output_type": "display_data"
    }
   ],
   "source": [
    "plt.figure(figsize=(10,6))\n",
    "# draw the line to split train and test, data on the right are predicted (test).\n",
    "plt.axvline(x=200, c='r', linestyle='--')\n",
    "\n",
    "# actual plot\n",
    "plt.plot(dataY_plot, label='Actuall Data')\n",
    "\n",
    "# predicted plot\n",
    "plt.plot(data_predict, label='Predicted Data')\n",
    "\n",
    "plt.title('Time-Series Prediction')\n",
    "plt.legend()\n",
    "plt.show()\n"
   ]
  },
  {
   "cell_type": "markdown",
   "metadata": {},
   "source": [
    "Source code: https://cnvrg.io/pytorch-lstm/"
   ]
  },
  {
   "cell_type": "code",
   "execution_count": null,
   "metadata": {},
   "outputs": [],
   "source": []
  }
 ],
 "metadata": {
  "kernelspec": {
   "display_name": "Python 3",
   "language": "python",
   "name": "python3"
  },
  "language_info": {
   "codemirror_mode": {
    "name": "ipython",
    "version": 3
   },
   "file_extension": ".py",
   "mimetype": "text/x-python",
   "name": "python",
   "nbconvert_exporter": "python",
   "pygments_lexer": "ipython3",
   "version": "3.7.0b2"
  }
 },
 "nbformat": 4,
 "nbformat_minor": 2
}
