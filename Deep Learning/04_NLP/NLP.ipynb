{
 "cells": [
  {
   "cell_type": "markdown",
   "metadata": {},
   "source": [
    "- `Written By   :` Mazi Boustani\n",
    "- `Date         :` 09/20/2021\n",
    "- `Purpose      :` Step by step introduction into NLP followed by code example\n"
   ]
  },
  {
   "cell_type": "markdown",
   "metadata": {},
   "source": [
    "## What is Natural Language Processing (NLP)?\n",
    "\n",
    "Natural language processing (NLP) is a __branch of AI__ with gives computer the ability to __understand text__ and __spoken words__ in much the same way human beings can.\n",
    "\n",
    "NLP can be used to:\n",
    "- translate text from one language to another\n",
    "- respond to spoken commands\n",
    "- summarize large volumes of text in real time\n",
    "- digital assistants \n",
    "- speech-to-text dictation software \n",
    "- customer service chatbots \n"
   ]
  },
  {
   "cell_type": "markdown",
   "metadata": {},
   "source": [
    "### Lowercase\n",
    "One of the first data preparation is to convert all the text to lower case. This approach will reduce a unique number of characters and make the dataset simpler.\n",
    "\n",
    "`The news about USA` --> `the news about usa`"
   ]
  },
  {
   "cell_type": "markdown",
   "metadata": {},
   "source": [
    "### Remove Stop words\n",
    "Stop words are common words that do not contribute much of the information in a text document.\n",
    "Words like __the, is, a__ have less value and add noise to the text data.\n",
    "\n",
    "Removing stopwords can help dataset size to decrease and the time to train the model also decreases and improving performance.\n",
    "\n",
    "`This is really good. We will do more such things.` --> `really, good, we, things.`"
   ]
  },
  {
   "cell_type": "markdown",
   "metadata": {},
   "source": [
    "### Remove Punctuation\n",
    "\n",
    "To remove any character in text from existing punctuation: `!\"#$%&'()*+,-./:;<=>?@[\\]^_{|}~`"
   ]
  },
  {
   "cell_type": "markdown",
   "metadata": {},
   "source": [
    "### Tokenization:\n",
    "Tokenization is the task of breaking a phrase which can be anything such as a __sentence__, a __paragraph__, or just a text into smaller sections such as __series of words__, __series of characters__, or a __series of subwords__, and they are called tokens. One use of tokenization is to generate tokens from a text and later convert tokens to numbers (vectorization).\n",
    "\n",
    "`Friends lend me your ears` -> `[Friends, lend, me, your, ears]`\n",
    "\n",
    "`Friends ` -> `[f,r,i,e,n,d,s]`"
   ]
  },
  {
   "cell_type": "markdown",
   "metadata": {},
   "source": [
    "### Padding:\n",
    "Neural network models require to have __inputs__ to have the __same shape and same size__, meaning all tweets that are inputted into the model one by one has to have exact same length, that is what padding is useful here.\n",
    "\n",
    "Every tweet in the dataset has a different number of words, we will set a maximum number of words for each tweet, if a tweet is longer then we can drop some words if the tweet has less word than max we can fill either beginning or end of the tweet with fix value such as `0`.\n",
    "\n",
    "__Padding: 5__\n",
    "\n",
    "\n",
    "![stemming](https://drek4537l1klr.cloudfront.net/lane/Figures/10fig10_alt.jpg)\n",
    " \n",
    "<center>[image source](https://livebook.manning.com/book/natural-language-processing-in-action/chapter-10/)</center>\n"
   ]
  },
  {
   "cell_type": "markdown",
   "metadata": {},
   "source": [
    "### Stemming:\n",
    "The task of stemming is to reduce extra characters from a word to its root or base of a word. For example, stemming both words `working` and `worked` becomes `work`.\n",
    "Snowball Stemmer is a stemming algorithm (also known as the Porter2 stemming algorithm).\n",
    "![stemming](https://miro.medium.com/max/704/1*ZLdN6Z_fn873jbD8TmJ96Q.png)\n",
    " \n",
    "<center>[image source](https://towardsdatascience.com/a-gentle-introduction-to-natural-language-processing-e716ed3c0863)</center>\n",
    "\n",
    "\n",
    "__Lemmatization__ is very similar to stemming but the root word in lemmatization belongs to a valid word in the language.\n",
    "`caring` --> `care` not `car`"
   ]
  },
  {
   "cell_type": "markdown",
   "metadata": {},
   "source": [
    "### Vectorization:\n",
    "Word vectorization is a technique of __mapping words to real numbers__, or better say vector of real numbers. Both Sklearn and Keras libraries has tools for vectorization.\n"
   ]
  },
  {
   "cell_type": "markdown",
   "metadata": {},
   "source": [
    "### Word Embedding:\n",
    "A word embedding is a learned representation for text where words that have the same meaning have a similar representation. Each word is mapped to one vector and the vector values are learned in a way that resembles a neural network.\n",
    "\n",
    "Word embeddings coming from pre-trained methods such as: \n",
    "- Word2Vec — From Google\n",
    "- Fasttext — From Facebook\n",
    "- GloVe — From Standford"
   ]
  },
  {
   "cell_type": "markdown",
   "metadata": {},
   "source": [
    "#### Word2Vec\n",
    "\n",
    "Word2Vec is not a singular algorithm, rather, it is a family of model architectures and optimizations that can be used to learn word embeddings from large datasets. Embeddings learned through Word2Vec have proven to be successful on a variety of downstream natural language processing tasks.\n",
    "\n",
    "This technique helps to measure the quality of the resulting vector representations. This works with similar words that tend to close with words that can have multiple degrees of similarity."
   ]
  },
  {
   "cell_type": "markdown",
   "metadata": {},
   "source": [
    "This is a word embedding for the word __\"king\"__\n",
    "\n",
    "![king](https://jalammar.github.io/images/word2vec/king-colored-embedding.png)\n",
    "![queen_woman_and more](https://jalammar.github.io/images/word2vec/queen-woman-girl-embeddings.png)\n",
    "![king_analogy](https://jalammar.github.io/images/word2vec/king-analogy-viz.png)\n",
    "\n",
    " \n",
    "<center>[image source](https://jalammar.github.io/illustrated-word2vec/)</center>\n"
   ]
  },
  {
   "cell_type": "markdown",
   "metadata": {},
   "source": [
    "### Google BERT\n",
    "\n",
    "BERT stands for Bidirectional Encoder Representations from Transformers.\n",
    "\n",
    "BERT is a transformer-based machine learning technique for natural language processing (NLP) pre-training developed by Google. \n",
    "\n",
    "BERT is the first deeply bidirectional, unsupervised language representation, pre-trained using only a plain text corpus.\n",
    "\n",
    "Pre-trained representations can either be:\n",
    "- context-free\n",
    "- contextual\n",
    "\n",
    "__Context-free__: models such as word2vec or GloVe generate a single word embedding representation for each word in the vocabulary.\n",
    "For example, the word “bank” would have the same context-free representation in \n",
    ">“bank account” and “bank of the river”\n",
    "\n",
    "__Contextual__: models instead generate a representation of each word that is based on the other words in the sentence. \n",
    "For example, in the sentence\n",
    "> “I accessed the bank account”\n"
   ]
  },
  {
   "cell_type": "code",
   "execution_count": null,
   "metadata": {},
   "outputs": [],
   "source": []
  },
  {
   "cell_type": "markdown",
   "metadata": {},
   "source": [
    "# NLP Code"
   ]
  },
  {
   "cell_type": "markdown",
   "metadata": {},
   "source": [
    "I will use the data from the Kaggle challenge called `Natural Language Processing with Disaster Tweets`. You can find the `train.csv` file under the `Data` section of the link below."
   ]
  },
  {
   "cell_type": "markdown",
   "metadata": {},
   "source": [
    "### Dataset"
   ]
  },
  {
   "cell_type": "markdown",
   "metadata": {},
   "source": [
    "Link to download the data:\n",
    "https://www.kaggle.com/c/nlp-getting-started/data"
   ]
  },
  {
   "cell_type": "markdown",
   "metadata": {},
   "source": [
    "Dataset has 5 columns. Column `target` is the label column, that means I am going to train a model that can predict the value of column `target` using other columns such as `text`, `location` and `keyword`. Now first let’s understand what each column means:\n",
    "\n",
    "__id -__ a unique identifier for each tweet\n",
    "\n",
    "__text -__ the text of the tweet\n",
    "\n",
    "__location -__ the location the tweet was sent from (may be blank)\n",
    "\n",
    "__keyword -__ a particular keyword from the tweet (may be blank)\n",
    "\n",
    "__target -__ in `train.csv` only, this denotes whether a tweet is about a real disaster (1) or not (0)"
   ]
  },
  {
   "cell_type": "code",
   "execution_count": 1,
   "metadata": {
    "scrolled": true
   },
   "outputs": [
    {
     "name": "stderr",
     "output_type": "stream",
     "text": [
      "[nltk_data] Error loading stopwords: <urlopen error [SSL:\n",
      "[nltk_data]     CERTIFICATE_VERIFY_FAILED] certificate verify failed:\n",
      "[nltk_data]     unable to get local issuer certificate (_ssl.c:1038)>\n"
     ]
    }
   ],
   "source": [
    "import pandas as pd\n",
    "import numpy as np\n",
    "import matplotlib.pyplot as plt\n",
    "import seaborn as sns\n",
    "import re\n",
    "\n",
    "import nltk \n",
    "nltk.download('stopwords')\n",
    "from nltk.corpus import stopwords\n",
    "from nltk.tokenize import word_tokenize \n",
    "from nltk.stem import SnowballStemmer\n",
    "\n",
    "from sklearn import model_selection, metrics, preprocessing, ensemble\n",
    "from sklearn.feature_extraction.text import CountVectorizer\n"
   ]
  },
  {
   "cell_type": "markdown",
   "metadata": {},
   "source": [
    "### Understanding the data"
   ]
  },
  {
   "cell_type": "markdown",
   "metadata": {},
   "source": [
    "For this task, we only use `train.csv` and will break it down into two parts of the train and test dataset. I am going to load the data to Pandas Dataframe and take a look at the first couple of rows.\n"
   ]
  },
  {
   "cell_type": "code",
   "execution_count": 2,
   "metadata": {},
   "outputs": [
    {
     "name": "stdout",
     "output_type": "stream",
     "text": [
      "Data points count:  7613\n"
     ]
    },
    {
     "data": {
      "text/html": [
       "<div>\n",
       "<style scoped>\n",
       "    .dataframe tbody tr th:only-of-type {\n",
       "        vertical-align: middle;\n",
       "    }\n",
       "\n",
       "    .dataframe tbody tr th {\n",
       "        vertical-align: top;\n",
       "    }\n",
       "\n",
       "    .dataframe thead th {\n",
       "        text-align: right;\n",
       "    }\n",
       "</style>\n",
       "<table border=\"1\" class=\"dataframe\">\n",
       "  <thead>\n",
       "    <tr style=\"text-align: right;\">\n",
       "      <th></th>\n",
       "      <th>id</th>\n",
       "      <th>keyword</th>\n",
       "      <th>location</th>\n",
       "      <th>text</th>\n",
       "      <th>target</th>\n",
       "    </tr>\n",
       "  </thead>\n",
       "  <tbody>\n",
       "    <tr>\n",
       "      <th>0</th>\n",
       "      <td>1</td>\n",
       "      <td>NaN</td>\n",
       "      <td>NaN</td>\n",
       "      <td>Our Deeds are the Reason of this #earthquake M...</td>\n",
       "      <td>1</td>\n",
       "    </tr>\n",
       "    <tr>\n",
       "      <th>1</th>\n",
       "      <td>4</td>\n",
       "      <td>NaN</td>\n",
       "      <td>NaN</td>\n",
       "      <td>Forest fire near La Ronge Sask. Canada</td>\n",
       "      <td>1</td>\n",
       "    </tr>\n",
       "    <tr>\n",
       "      <th>2</th>\n",
       "      <td>5</td>\n",
       "      <td>NaN</td>\n",
       "      <td>NaN</td>\n",
       "      <td>All residents asked to 'shelter in place' are ...</td>\n",
       "      <td>1</td>\n",
       "    </tr>\n",
       "    <tr>\n",
       "      <th>3</th>\n",
       "      <td>6</td>\n",
       "      <td>NaN</td>\n",
       "      <td>NaN</td>\n",
       "      <td>13,000 people receive #wildfires evacuation or...</td>\n",
       "      <td>1</td>\n",
       "    </tr>\n",
       "    <tr>\n",
       "      <th>4</th>\n",
       "      <td>7</td>\n",
       "      <td>NaN</td>\n",
       "      <td>NaN</td>\n",
       "      <td>Just got sent this photo from Ruby #Alaska as ...</td>\n",
       "      <td>1</td>\n",
       "    </tr>\n",
       "  </tbody>\n",
       "</table>\n",
       "</div>"
      ],
      "text/plain": [
       "   id keyword location                                               text  \\\n",
       "0   1     NaN      NaN  Our Deeds are the Reason of this #earthquake M...   \n",
       "1   4     NaN      NaN             Forest fire near La Ronge Sask. Canada   \n",
       "2   5     NaN      NaN  All residents asked to 'shelter in place' are ...   \n",
       "3   6     NaN      NaN  13,000 people receive #wildfires evacuation or...   \n",
       "4   7     NaN      NaN  Just got sent this photo from Ruby #Alaska as ...   \n",
       "\n",
       "   target  \n",
       "0       1  \n",
       "1       1  \n",
       "2       1  \n",
       "3       1  \n",
       "4       1  "
      ]
     },
     "execution_count": 2,
     "metadata": {},
     "output_type": "execute_result"
    }
   ],
   "source": [
    "# Reading the train dataset\n",
    "file_path = \"./data/train.csv\"\n",
    "# Loading data to Pandas Dataframe\n",
    "raw_data = pd.read_csv(file_path)\n",
    "print(\"Data points count: \", raw_data['id'].count())\n",
    "# looking at sample of data\n",
    "raw_data.head()\n"
   ]
  },
  {
   "cell_type": "markdown",
   "metadata": {},
   "source": [
    "First, I would like to get more familiar with datasets to understand the features (columns).\n",
    "\n",
    "Column `target` is a column that our model is going to learn to predict. As it has only two unique values of `0` and `1` therefore this is a `binary classification` task.\n",
    "\n",
    "I would like to know the radio of the tweets labeled as `0` vs `1` so let’s plot data based on column `target`."
   ]
  },
  {
   "cell_type": "code",
   "execution_count": 3,
   "metadata": {
    "scrolled": false
   },
   "outputs": [
    {
     "data": {
      "image/png": "[encoded data removed]",
      "text/plain": [
       "<Figure size 720x576 with 1 Axes>"
      ]
     },
     "metadata": {},
     "output_type": "display_data"
    }
   ],
   "source": [
    "# Plotting target value counts\n",
    "plt.figure(figsize=(10,8))\n",
    "ax = raw_data['target'].value_counts().sort_values().plot(kind=\"bar\")\n",
    "ax.grid(axis=\"y\")\n",
    "plt.suptitle(\"Target Value Counts\", fontsize=20)\n",
    "plt.show()\n"
   ]
  },
  {
   "cell_type": "markdown",
   "metadata": {},
   "source": [
    "As you can see there are more data points with the label `0` meaning tweets that are not disaster tweets and fewer data points with the label `1` which is tweets that are related to a disaster. Usually, for data that has some skewed labels, it is recommended to use an `F-score` instead of `accuracy` for model evaluation, we will address that at the end of this article."
   ]
  },
  {
   "cell_type": "markdown",
   "metadata": {},
   "source": [
    "### Missing Data"
   ]
  },
  {
   "cell_type": "markdown",
   "metadata": {},
   "source": [
    "Next, I would like to know that how is the `missing data` in our dataset for each column. The heatmap below shows that the column `keyword` has very few missing data points and I will fill the missing data points and use this column as a feature. Column `location` has very missing data and the quality of data is very bad. It has values that are not related to location. So I decided not to use this column and drop it. Column `text` which is the main column that has the actual tweet needs to be processed and get cleaned. It has no missing data."
   ]
  },
  {
   "cell_type": "code",
   "execution_count": 4,
   "metadata": {},
   "outputs": [
    {
     "name": "stdout",
     "output_type": "stream",
     "text": [
      "Number of missing data for column keyword:  61\n",
      "Number of missing data for column location:  2533\n",
      "Number of missing data for column text:  0\n",
      "Number of missing data for column target:  0\n"
     ]
    }
   ],
   "source": [
    "print(\"Number of missing data for column keyword: \", raw_data['keyword'].isna().sum())\n",
    "print(\"Number of missing data for column location: \", raw_data['location'].isna().sum())\n",
    "print(\"Number of missing data for column text: \", raw_data['text'].isna().sum())\n",
    "print(\"Number of missing data for column target: \", raw_data['target'].isna().sum())\n"
   ]
  },
  {
   "cell_type": "code",
   "execution_count": 5,
   "metadata": {},
   "outputs": [
    {
     "data": {
      "image/png": "[encoded data removed]",
      "text/plain": [
       "<Figure size 1080x576 with 1 Axes>"
      ]
     },
     "metadata": {},
     "output_type": "display_data"
    }
   ],
   "source": [
    "plt.figure(figsize=(15,8))\n",
    "sns.heatmap(raw_data.drop('id', axis=1).isnull(), cbar=False, cmap=\"GnBu\").set_title(\"Missing data for each column\")\n",
    "plt.show()\n"
   ]
  },
  {
   "cell_type": "markdown",
   "metadata": {},
   "source": [
    "I have also noticed that there are some tweets that contain less than 3 words and I think two words sentences might not be able to transfer the knowledge very well. So to get a sense of number of words sentences are made of I want to look at the histogram of word count per sentence."
   ]
  },
  {
   "cell_type": "code",
   "execution_count": 6,
   "metadata": {},
   "outputs": [
    {
     "name": "stderr",
     "output_type": "stream",
     "text": [
      "/Library/Frameworks/Python.framework/Versions/3.7/lib/python3.7/site-packages/scipy/stats/stats.py:1713: FutureWarning: Using a non-tuple sequence for multidimensional indexing is deprecated; use `arr[tuple(seq)]` instead of `arr[seq]`. In the future this will be interpreted as an array index, `arr[np.array(seq)]`, which will result either in an error or a different result.\n",
      "  return np.add.reduce(sorted[indexer] * weights, axis=axis) / sumval\n"
     ]
    },
    {
     "data": {
      "image/png": "[encoded data removed]",
      "text/plain": [
       "<Figure size 1080x576 with 1 Axes>"
      ]
     },
     "metadata": {},
     "output_type": "display_data"
    }
   ],
   "source": [
    "plt.figure(figsize=(15,8))\n",
    "raw_data['word_count'] = raw_data['text'].apply(lambda x: len(x.split(\" \")) )\n",
    "sns.distplot(raw_data['word_count'].values, hist=True, kde=True, kde_kws={\"shade\": True})\n",
    "plt.axvline(raw_data['word_count'].describe()['25%'], ls=\"--\")\n",
    "plt.axvline(raw_data['word_count'].describe()['50%'], ls=\"--\")\n",
    "plt.axvline(raw_data['word_count'].describe()['75%'], ls=\"--\")\n",
    "\n",
    "plt.grid()\n",
    "plt.suptitle(\"Word count histogram\")\n",
    "plt.show()\n",
    "\n",
    "# remove rows with under 3 words\n",
    "raw_data = raw_data[raw_data['word_count']>2]\n",
    "raw_data = raw_data.reset_index()\n"
   ]
  },
  {
   "cell_type": "code",
   "execution_count": 7,
   "metadata": {},
   "outputs": [
    {
     "name": "stdout",
     "output_type": "stream",
     "text": [
      "25th percentile:  11.0\n",
      "mean:  15.0\n",
      "75th percentile:  19.0\n"
     ]
    }
   ],
   "source": [
    "print(\"25th percentile: \", raw_data['word_count'].describe()['25%'])\n",
    "print(\"mean: \", raw_data['word_count'].describe()['50%'])\n",
    "print(\"75th percentile: \", raw_data['word_count'].describe()['75%'])\n"
   ]
  },
  {
   "cell_type": "markdown",
   "metadata": {},
   "source": [
    "As we can see the majority of tweets are between 11 to 19 words, so I have decided to remove tweets with less than 2 words. I believe sentences with 3 words can say enough about the tweet. It might be a good idea to also remove tweets with more than 25–30 words as they might slow down the training time."
   ]
  },
  {
   "cell_type": "markdown",
   "metadata": {},
   "source": [
    "### Data Cleaning and Preprocessing"
   ]
  },
  {
   "cell_type": "markdown",
   "metadata": {},
   "source": [
    "Common steps for data cleaning on the NLP task dealing with tweets are removing __special characters__, removing __stop words__, removing __URLs__, removing __numbers__, and doing __word stemming__.\n"
   ]
  },
  {
   "cell_type": "code",
   "execution_count": 8,
   "metadata": {},
   "outputs": [],
   "source": [
    "# define stop words\n",
    "stop_words = set(stopwords.words('english'))\n",
    "\n",
    "# define stemmer function\n",
    "stemmer = SnowballStemmer('english')\n"
   ]
  },
  {
   "cell_type": "code",
   "execution_count": 9,
   "metadata": {
    "scrolled": true
   },
   "outputs": [],
   "source": [
    "def clean_text(each_text):\n",
    "    '''\n",
    "    Cleaning text function.\n",
    "    '''\n",
    "\n",
    "    # remove URL from text\n",
    "    each_text_no_url = re.sub(r\"http\\S+\", \"\", each_text)\n",
    "    \n",
    "    # remove numbers from text\n",
    "    text_no_num = re.sub(r'\\d+', '', each_text_no_url)\n",
    "\n",
    "    # tokenize each text\n",
    "    word_tokens = word_tokenize(text_no_num)\n",
    "    \n",
    "    # remove sptial character\n",
    "    clean_text = []\n",
    "    for word in word_tokens:\n",
    "        clean_text.append(\"\".join([e for e in word if e.isalnum()]))\n",
    "\n",
    "    # remove stop words and lower\n",
    "    text_with_no_stop_word = [w.lower() for w in clean_text if not w in stop_words]  \n",
    "\n",
    "    # do stemming\n",
    "    stemmed_text = [stemmer.stem(w) for w in text_with_no_stop_word]\n",
    "    \n",
    "    return \" \".join(\" \".join(stemmed_text).split())\n"
   ]
  },
  {
   "cell_type": "code",
   "execution_count": 10,
   "metadata": {},
   "outputs": [],
   "source": [
    "raw_data['clean_text'] = raw_data['text'].apply(lambda x: clean_text(x) )\n",
    "raw_data['keyword'] = raw_data['keyword'].fillna(\"none\")\n",
    "raw_data['clean_keyword'] = raw_data['keyword'].apply(lambda x: clean_text(x) )\n"
   ]
  },
  {
   "cell_type": "markdown",
   "metadata": {},
   "source": [
    "To be able to use both `text` and `keyword` column there are various approaches to apply but one simple approach that I have applied was to combine both of these two features into a new feature called `keyword_text`"
   ]
  },
  {
   "cell_type": "code",
   "execution_count": 11,
   "metadata": {
    "scrolled": true
   },
   "outputs": [],
   "source": [
    "# Combine column 'clean_keyword' and 'clean_text' into one\n",
    "raw_data['keyword_text'] = raw_data['clean_keyword'] + \" \" + raw_data[\"clean_text\"]\n"
   ]
  },
  {
   "cell_type": "markdown",
   "metadata": {},
   "source": [
    "### Prepare train and test data\n",
    "I have used Sklearn's `train_test_split` function to do a train and test split with data shuffling."
   ]
  },
  {
   "cell_type": "code",
   "execution_count": 12,
   "metadata": {},
   "outputs": [],
   "source": [
    "feature = \"keyword_text\"\n",
    "label = \"target\"\n",
    "\n",
    "# split train and test\n",
    "X_train, X_test,y_train, y_test = model_selection.train_test_split(raw_data[feature],\n",
    "                                                                   raw_data[label],\n",
    "                                                                   test_size=0.3,\n",
    "                                                                   random_state=0,\n",
    "                                                                   shuffle=True)\n"
   ]
  },
  {
   "cell_type": "markdown",
   "metadata": {},
   "source": [
    "As I already mentioned about vectorization that we have to convert text to numbers as machine learning models can only work with a number so we use `Countervectorize` here. We do fit and transform on train data and only transform on test data. Make sure there is no fitting happens on test data."
   ]
  },
  {
   "cell_type": "markdown",
   "metadata": {},
   "source": [
    "## GradientBoostingClassifier\n",
    "Gradient Boosting Classifier is a machine learning algorithm that combines many weak learning models such as decision trees together to create a strong predictive model.\n"
   ]
  },
  {
   "cell_type": "code",
   "execution_count": 13,
   "metadata": {},
   "outputs": [],
   "source": [
    "# reshape both train and test data\n",
    "X_train_GBC = X_train.values.reshape(-1)\n",
    "x_test_GBC = X_test.values.reshape(-1)\n"
   ]
  },
  {
   "cell_type": "code",
   "execution_count": 14,
   "metadata": {},
   "outputs": [],
   "source": [
    "# Vectorize text\n",
    "vectorizer = CountVectorizer()\n",
    "X_train_GBC = vectorizer.fit_transform(X_train_GBC)\n",
    "x_test_GBC = vectorizer.transform(x_test_GBC)\n"
   ]
  },
  {
   "cell_type": "code",
   "execution_count": 15,
   "metadata": {},
   "outputs": [],
   "source": [
    "# define the model\n",
    "model = ensemble.GradientBoostingClassifier(learning_rate=0.1,                                            \n",
    "                                            n_estimators=2000,\n",
    "                                            max_depth=9,\n",
    "                                            min_samples_split=6,\n",
    "                                            min_samples_leaf=2,\n",
    "                                            max_features=8,\n",
    "                                            subsample=0.9)\n"
   ]
  },
  {
   "cell_type": "code",
   "execution_count": 16,
   "metadata": {},
   "outputs": [
    {
     "data": {
      "text/plain": [
       "GradientBoostingClassifier(criterion='friedman_mse', init=None,\n",
       "                           learning_rate=0.1, loss='deviance', max_depth=9,\n",
       "                           max_features=8, max_leaf_nodes=None,\n",
       "                           min_impurity_decrease=0.0, min_impurity_split=None,\n",
       "                           min_samples_leaf=2, min_samples_split=6,\n",
       "                           min_weight_fraction_leaf=0.0, n_estimators=2000,\n",
       "                           n_iter_no_change=None, presort='auto',\n",
       "                           random_state=None, subsample=0.9, tol=0.0001,\n",
       "                           validation_fraction=0.1, verbose=0,\n",
       "                           warm_start=False)"
      ]
     },
     "execution_count": 16,
     "metadata": {},
     "output_type": "execute_result"
    }
   ],
   "source": [
    "# Fit the model\n",
    "model.fit(X_train_GBC, y_train)\n"
   ]
  },
  {
   "cell_type": "markdown",
   "metadata": {},
   "source": [
    "### Evaluate the model"
   ]
  },
  {
   "cell_type": "markdown",
   "metadata": {},
   "source": [
    "A good metric to evaluate the performance of our model is __F-score__. Before calculating F-score let’s get familiar with __Precision__ and __Recall__.\n",
    "\n",
    "__Precision:__ Out of data points we correctly labeled positive, how many we labeled positive correctly.\n",
    "\n",
    "![f_score](https://images.deepai.org/user-content/2952072184-thumb-2392.svg)\n",
    "\n",
    "\n",
    "\n",
    "__Recall:__ Out of data points we correctly labeled positive, how many actually are positive.\n",
    "\n",
    "![f_score](https://images.deepai.org/user-content/8686182762-thumb-1174.svg)\n",
    "\n"
   ]
  },
  {
   "cell_type": "markdown",
   "metadata": {},
   "source": [
    "![f_score](https://miro.medium.com/max/1100/1*8ARQCywxXKz7ZlA0L3zXrQ.png)\n"
   ]
  },
  {
   "cell_type": "markdown",
   "metadata": {},
   "source": [
    "__F-score or F-measure__ is a measure of a test's accuracy.\n",
    "\n",
    "The __highest__ possible value of an F-score is 1.0, indicating perfect precision and recall, and the __lowest__ possible value is 0, if either the precision or the recall is zero."
   ]
  },
  {
   "cell_type": "code",
   "execution_count": 17,
   "metadata": {
    "scrolled": true
   },
   "outputs": [
    {
     "name": "stdout",
     "output_type": "stream",
     "text": [
      "Test accuracy:  0.7911894273127753\n",
      "              precision    recall  f1-score   support\n",
      "\n",
      "           0       0.79      0.88      0.83      1309\n",
      "           1       0.80      0.68      0.73       961\n",
      "\n",
      "    accuracy                           0.79      2270\n",
      "   macro avg       0.79      0.78      0.78      2270\n",
      "weighted avg       0.79      0.79      0.79      2270\n",
      "\n",
      "Test F-scoare:  0.7325056433408578\n"
     ]
    }
   ],
   "source": [
    "# Predict test data\n",
    "predicted_prob = model.predict_proba(x_test_GBC)[:,1]\n",
    "predicted = model.predict(x_test_GBC)\n",
    "\n",
    "# Calculate accuracy, recall, f1-score\n",
    "accuracy = metrics.accuracy_score(predicted, y_test)\n",
    "print(\"Test accuracy: \", accuracy)\n",
    "print(metrics.classification_report(y_test, predicted, target_names=[\"0\", \"1\"]))\n",
    "print(\"Test F-scoare: \", metrics.f1_score(y_test, predicted))\n"
   ]
  },
  {
   "cell_type": "markdown",
   "metadata": {},
   "source": [
    "A __confusion matrix__ is a table that shows the performance of the classification model in comparison to two classes. As we can see in the plot our model had a better performance on detecting target value `0` than target value `1`."
   ]
  },
  {
   "cell_type": "code",
   "execution_count": 18,
   "metadata": {},
   "outputs": [
    {
     "data": {
      "image/png": "[encoded data removed]",
      "text/plain": [
       "<Figure size 432x288 with 1 Axes>"
      ]
     },
     "metadata": {},
     "output_type": "display_data"
    }
   ],
   "source": [
    "# Plot confusion matrix\n",
    "conf_matrix = metrics.confusion_matrix(y_test, predicted)\n",
    "\n",
    "fig, ax = plt.subplots()\n",
    "sns.heatmap(conf_matrix, cbar=False, cmap='Reds', annot=True, fmt='d')\n",
    "ax.set(xlabel=\"Predicted Value\", ylabel=\"True Value\", title=\"Confusion Matrix\")\n",
    "ax.set_yticklabels(labels=['0', '1'], rotation=0)\n",
    "\n",
    "plt.show()\n"
   ]
  },
  {
   "cell_type": "markdown",
   "metadata": {},
   "source": [
    "source: https://towardsdatascience.com/detecting-disaster-from-tweets-classical-ml-and-lstm-approach-4566871af5f7"
   ]
  },
  {
   "cell_type": "code",
   "execution_count": null,
   "metadata": {},
   "outputs": [],
   "source": []
  }
 ],
 "metadata": {
  "kernelspec": {
   "display_name": "Python 3",
   "language": "python",
   "name": "python3"
  },
  "language_info": {
   "codemirror_mode": {
    "name": "ipython",
    "version": 3
   },
   "file_extension": ".py",
   "mimetype": "text/x-python",
   "name": "python",
   "nbconvert_exporter": "python",
   "pygments_lexer": "ipython3",
   "version": "3.7.0b2"
  }
 },
 "nbformat": 4,
 "nbformat_minor": 2
}
