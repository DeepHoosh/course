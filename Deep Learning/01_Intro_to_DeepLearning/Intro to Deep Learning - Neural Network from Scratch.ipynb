{
 "cells": [
  {
   "cell_type": "markdown",
   "metadata": {},
   "source": [
    "- `Written By   :` Mazi Boustani\n",
    "- `Date         :` 08/05/2021\n",
    "- `Purpose      :` Intoduction to Deep Learning and step by step code for traning a binary classification neural network from scratch to predict MNIST 0 and 1 digits\n",
    "\n",
    "All images captured from: https://youtu.be/5tvmMX8r_OM"
   ]
  },
  {
   "cell_type": "markdown",
   "metadata": {},
   "source": [
    "![NN](https://miro.medium.com/max/1100/0*61ZaNNpbpMtZLLpZ. \"MNIST Neural Network\")\n",
    "<center>[image source](https://www.youtube.com/watch?v=Ilg3gGewQ5U&t=522s&ab_channel=3Blue1Brown)</center>"
   ]
  },
  {
   "cell_type": "markdown",
   "metadata": {},
   "source": [
    "## What is deep learning?"
   ]
  },
  {
   "cell_type": "markdown",
   "metadata": {},
   "source": [
    "![what_is_deep_learning](images/what_is_deep_learning.png)"
   ]
  },
  {
   "cell_type": "markdown",
   "metadata": {},
   "source": [
    "# Two Supervised Learning algorithms"
   ]
  },
  {
   "cell_type": "markdown",
   "metadata": {},
   "source": [
    "### Regression\n",
    "Regression predictive modeling is the task of approximating a mapping function (f) from input variables (X) to a continuous output variable (y).\n",
    "\n",
    "A continuous output variable is a real-value, such as an integer or floating point value. These are often quantities, such as amounts and sizes.\n",
    "\n",
    "### Classification\n",
    "Classification predictive modeling is the task of approximating a mapping function (f) from input variables (X) to discrete output variables (y).\n",
    "\n",
    "The output variables are often called labels or categories. The mapping function predicts the class or category for a given observation."
   ]
  },
  {
   "cell_type": "markdown",
   "metadata": {},
   "source": [
    "## The Perceptron\n",
    "\n",
    "The Perceptron (single neural) is fundamental building block of deep learning.\n",
    "\n",
    "Set of input multiply with corresponding weights and summed all together. Then pass it to an activation function."
   ]
  },
  {
   "cell_type": "markdown",
   "metadata": {},
   "source": [
    "![the_perceptron](images/the_perceptron.png)"
   ]
  },
  {
   "cell_type": "markdown",
   "metadata": {},
   "source": [
    "All activation functions\n",
    "![activation_functions](images/activation_functions.png)\n"
   ]
  },
  {
   "cell_type": "markdown",
   "metadata": {},
   "source": [
    "Why using non linear activation function? Because we mostly see no linear data these days.\n",
    "![importance_activation_function](images/importance_activation_function.png)\n"
   ]
  },
  {
   "cell_type": "markdown",
   "metadata": {},
   "source": [
    "![single_layer_NN](images/single_layer_NN.png)"
   ]
  },
  {
   "cell_type": "markdown",
   "metadata": {},
   "source": [
    "![example_problem_NN](images/example_problem_NN.png)"
   ]
  },
  {
   "cell_type": "markdown",
   "metadata": {},
   "source": [
    "![quantify_loss](images/quantify_loss.png)"
   ]
  },
  {
   "cell_type": "markdown",
   "metadata": {},
   "source": [
    "![cost_function](images/cost_function.png)"
   ]
  },
  {
   "cell_type": "markdown",
   "metadata": {},
   "source": [
    "![binary_cross_entropy_loss](images/binary_cross_entropy_loss.png)"
   ]
  },
  {
   "cell_type": "markdown",
   "metadata": {},
   "source": [
    "![MSE_loss](images/MSE_loss.png)"
   ]
  },
  {
   "cell_type": "markdown",
   "metadata": {},
   "source": [
    "![Loss_Optimization](images/Loss_Optimization.png)"
   ]
  },
  {
   "cell_type": "markdown",
   "metadata": {},
   "source": [
    "![Gradient_descent](images/Gradient_descent.png)"
   ]
  },
  {
   "cell_type": "markdown",
   "metadata": {},
   "source": [
    "![backprop](images/backprop.png)"
   ]
  },
  {
   "cell_type": "markdown",
   "metadata": {},
   "source": [
    "![back_prop_w2](images/back_prop_w2.png)"
   ]
  },
  {
   "cell_type": "markdown",
   "metadata": {},
   "source": [
    "![back_prop_w1](images/back_prop_w1.png)"
   ]
  },
  {
   "cell_type": "markdown",
   "metadata": {},
   "source": [
    "![real_loss_plot](images/real_loss_plot.png)"
   ]
  },
  {
   "cell_type": "markdown",
   "metadata": {},
   "source": [
    "![learning_rate](images/learning_rate.png)"
   ]
  },
  {
   "cell_type": "markdown",
   "metadata": {},
   "source": [
    "![small_lr](images/small_lr.png)"
   ]
  },
  {
   "cell_type": "markdown",
   "metadata": {},
   "source": [
    "![large_lr](images/large_lr.png)"
   ]
  },
  {
   "cell_type": "markdown",
   "metadata": {},
   "source": [
    "![stable_lr](images/stable_lr.png)"
   ]
  },
  {
   "cell_type": "markdown",
   "metadata": {},
   "source": [
    "![all_code](images/all_code.png)"
   ]
  },
  {
   "cell_type": "markdown",
   "metadata": {},
   "source": [
    "![stochastic_gradient_descent](images/stochastic_gradient_descent.png)"
   ]
  },
  {
   "cell_type": "markdown",
   "metadata": {},
   "source": [
    "![overfitting](images/overfitting.png)"
   ]
  },
  {
   "cell_type": "markdown",
   "metadata": {},
   "source": [
    "![dropout](images/dropout.png)"
   ]
  },
  {
   "cell_type": "markdown",
   "metadata": {},
   "source": [
    "![early_stop](images/early_stop.png)"
   ]
  },
  {
   "cell_type": "markdown",
   "metadata": {},
   "source": [
    "## Code Neural Network from Scratch"
   ]
  },
  {
   "cell_type": "code",
   "execution_count": 1,
   "metadata": {},
   "outputs": [],
   "source": [
    "import pandas as pd\n",
    "import numpy as np\n",
    "import matplotlib.pyplot as plt\n"
   ]
  },
  {
   "cell_type": "markdown",
   "metadata": {},
   "source": [
    "## Download dataset"
   ]
  },
  {
   "cell_type": "markdown",
   "metadata": {},
   "source": [
    "Download data from link below and unzip `train.csv` and `test.csv`\n",
    "\n",
    "Link to data: https://www.kaggle.com/shivamb/a-very-comprehensive-tutorial-nn-cnn/data"
   ]
  },
  {
   "cell_type": "markdown",
   "metadata": {},
   "source": [
    "### MNIST dataset\n",
    "MNIST dataset is handwritten digits that is commonly used for training various image processing systems.\n",
    "  > Each image is 28*28.\n",
    "\n",
    "![mnist](https://upload.wikimedia.org/wikipedia/commons/2/27/MnistExamples.png)\n",
    "Source: wikipedia\n"
   ]
  },
  {
   "cell_type": "markdown",
   "metadata": {},
   "source": [
    "## Data Preparation\n",
    "\n",
    "Load both train and test dataset.\n",
    "\n",
    "We are training a `binary classification`. For example, a model that can detect digits of `0` and `1`"
   ]
  },
  {
   "cell_type": "code",
   "execution_count": 2,
   "metadata": {},
   "outputs": [],
   "source": [
    "# read train dataset\n",
    "train = pd.read_csv('./data/train.csv')\n",
    "\n",
    "# read test dataset, test data does not have lables\n",
    "test = pd.read_csv('./data/test.csv')\n"
   ]
  },
  {
   "cell_type": "markdown",
   "metadata": {},
   "source": [
    "### Get familiar with data"
   ]
  },
  {
   "cell_type": "code",
   "execution_count": 3,
   "metadata": {
    "scrolled": true
   },
   "outputs": [
    {
     "name": "stdout",
     "output_type": "stream",
     "text": [
      "(42000, 785)\n",
      "Index(['label', 'pixel0', 'pixel1', 'pixel2', 'pixel3', 'pixel4', 'pixel5',\n",
      "       'pixel6', 'pixel7', 'pixel8',\n",
      "       ...\n",
      "       'pixel774', 'pixel775', 'pixel776', 'pixel777', 'pixel778', 'pixel779',\n",
      "       'pixel780', 'pixel781', 'pixel782', 'pixel783'],\n",
      "      dtype='object', length=785)\n"
     ]
    },
    {
     "data": {
      "text/html": [
       "<div>\n",
       "<style scoped>\n",
       "    .dataframe tbody tr th:only-of-type {\n",
       "        vertical-align: middle;\n",
       "    }\n",
       "\n",
       "    .dataframe tbody tr th {\n",
       "        vertical-align: top;\n",
       "    }\n",
       "\n",
       "    .dataframe thead th {\n",
       "        text-align: right;\n",
       "    }\n",
       "</style>\n",
       "<table border=\"1\" class=\"dataframe\">\n",
       "  <thead>\n",
       "    <tr style=\"text-align: right;\">\n",
       "      <th></th>\n",
       "      <th>label</th>\n",
       "      <th>pixel0</th>\n",
       "      <th>pixel1</th>\n",
       "      <th>pixel2</th>\n",
       "      <th>pixel3</th>\n",
       "      <th>pixel4</th>\n",
       "      <th>pixel5</th>\n",
       "      <th>pixel6</th>\n",
       "      <th>pixel7</th>\n",
       "      <th>pixel8</th>\n",
       "      <th>...</th>\n",
       "      <th>pixel774</th>\n",
       "      <th>pixel775</th>\n",
       "      <th>pixel776</th>\n",
       "      <th>pixel777</th>\n",
       "      <th>pixel778</th>\n",
       "      <th>pixel779</th>\n",
       "      <th>pixel780</th>\n",
       "      <th>pixel781</th>\n",
       "      <th>pixel782</th>\n",
       "      <th>pixel783</th>\n",
       "    </tr>\n",
       "  </thead>\n",
       "  <tbody>\n",
       "    <tr>\n",
       "      <th>0</th>\n",
       "      <td>1</td>\n",
       "      <td>0</td>\n",
       "      <td>0</td>\n",
       "      <td>0</td>\n",
       "      <td>0</td>\n",
       "      <td>0</td>\n",
       "      <td>0</td>\n",
       "      <td>0</td>\n",
       "      <td>0</td>\n",
       "      <td>0</td>\n",
       "      <td>...</td>\n",
       "      <td>0</td>\n",
       "      <td>0</td>\n",
       "      <td>0</td>\n",
       "      <td>0</td>\n",
       "      <td>0</td>\n",
       "      <td>0</td>\n",
       "      <td>0</td>\n",
       "      <td>0</td>\n",
       "      <td>0</td>\n",
       "      <td>0</td>\n",
       "    </tr>\n",
       "    <tr>\n",
       "      <th>1</th>\n",
       "      <td>0</td>\n",
       "      <td>0</td>\n",
       "      <td>0</td>\n",
       "      <td>0</td>\n",
       "      <td>0</td>\n",
       "      <td>0</td>\n",
       "      <td>0</td>\n",
       "      <td>0</td>\n",
       "      <td>0</td>\n",
       "      <td>0</td>\n",
       "      <td>...</td>\n",
       "      <td>0</td>\n",
       "      <td>0</td>\n",
       "      <td>0</td>\n",
       "      <td>0</td>\n",
       "      <td>0</td>\n",
       "      <td>0</td>\n",
       "      <td>0</td>\n",
       "      <td>0</td>\n",
       "      <td>0</td>\n",
       "      <td>0</td>\n",
       "    </tr>\n",
       "    <tr>\n",
       "      <th>2</th>\n",
       "      <td>1</td>\n",
       "      <td>0</td>\n",
       "      <td>0</td>\n",
       "      <td>0</td>\n",
       "      <td>0</td>\n",
       "      <td>0</td>\n",
       "      <td>0</td>\n",
       "      <td>0</td>\n",
       "      <td>0</td>\n",
       "      <td>0</td>\n",
       "      <td>...</td>\n",
       "      <td>0</td>\n",
       "      <td>0</td>\n",
       "      <td>0</td>\n",
       "      <td>0</td>\n",
       "      <td>0</td>\n",
       "      <td>0</td>\n",
       "      <td>0</td>\n",
       "      <td>0</td>\n",
       "      <td>0</td>\n",
       "      <td>0</td>\n",
       "    </tr>\n",
       "    <tr>\n",
       "      <th>3</th>\n",
       "      <td>4</td>\n",
       "      <td>0</td>\n",
       "      <td>0</td>\n",
       "      <td>0</td>\n",
       "      <td>0</td>\n",
       "      <td>0</td>\n",
       "      <td>0</td>\n",
       "      <td>0</td>\n",
       "      <td>0</td>\n",
       "      <td>0</td>\n",
       "      <td>...</td>\n",
       "      <td>0</td>\n",
       "      <td>0</td>\n",
       "      <td>0</td>\n",
       "      <td>0</td>\n",
       "      <td>0</td>\n",
       "      <td>0</td>\n",
       "      <td>0</td>\n",
       "      <td>0</td>\n",
       "      <td>0</td>\n",
       "      <td>0</td>\n",
       "    </tr>\n",
       "    <tr>\n",
       "      <th>4</th>\n",
       "      <td>0</td>\n",
       "      <td>0</td>\n",
       "      <td>0</td>\n",
       "      <td>0</td>\n",
       "      <td>0</td>\n",
       "      <td>0</td>\n",
       "      <td>0</td>\n",
       "      <td>0</td>\n",
       "      <td>0</td>\n",
       "      <td>0</td>\n",
       "      <td>...</td>\n",
       "      <td>0</td>\n",
       "      <td>0</td>\n",
       "      <td>0</td>\n",
       "      <td>0</td>\n",
       "      <td>0</td>\n",
       "      <td>0</td>\n",
       "      <td>0</td>\n",
       "      <td>0</td>\n",
       "      <td>0</td>\n",
       "      <td>0</td>\n",
       "    </tr>\n",
       "  </tbody>\n",
       "</table>\n",
       "<p>5 rows × 785 columns</p>\n",
       "</div>"
      ],
      "text/plain": [
       "   label  pixel0  pixel1  pixel2  pixel3  pixel4  pixel5  pixel6  pixel7  \\\n",
       "0      1       0       0       0       0       0       0       0       0   \n",
       "1      0       0       0       0       0       0       0       0       0   \n",
       "2      1       0       0       0       0       0       0       0       0   \n",
       "3      4       0       0       0       0       0       0       0       0   \n",
       "4      0       0       0       0       0       0       0       0       0   \n",
       "\n",
       "   pixel8  ...  pixel774  pixel775  pixel776  pixel777  pixel778  pixel779  \\\n",
       "0       0  ...         0         0         0         0         0         0   \n",
       "1       0  ...         0         0         0         0         0         0   \n",
       "2       0  ...         0         0         0         0         0         0   \n",
       "3       0  ...         0         0         0         0         0         0   \n",
       "4       0  ...         0         0         0         0         0         0   \n",
       "\n",
       "   pixel780  pixel781  pixel782  pixel783  \n",
       "0         0         0         0         0  \n",
       "1         0         0         0         0  \n",
       "2         0         0         0         0  \n",
       "3         0         0         0         0  \n",
       "4         0         0         0         0  \n",
       "\n",
       "[5 rows x 785 columns]"
      ]
     },
     "execution_count": 3,
     "metadata": {},
     "output_type": "execute_result"
    }
   ],
   "source": [
    "print(train.shape)\n",
    "print(train.columns)\n",
    "train.head()"
   ]
  },
  {
   "cell_type": "code",
   "execution_count": 4,
   "metadata": {},
   "outputs": [],
   "source": [
    "# first shuffle train data\n",
    "train = train.sample(frac=1)\n",
    "\n",
    "# take 10% of train for validation\n",
    "\n",
    "# get number of datapoints\n",
    "num_datapoints = train.shape[0]\n",
    "\n",
    "# get 90% of total count\n",
    "num_train = int(num_datapoints*0.9)\n",
    "\n",
    "# get 10% of train for validation\n",
    "validation = train[num_train:]\n",
    "\n",
    "# get 90% for train\n",
    "train = train[:num_train]\n"
   ]
  },
  {
   "cell_type": "code",
   "execution_count": 5,
   "metadata": {},
   "outputs": [],
   "source": [
    "# Get datapoint with only label 0 and 1\n",
    "X = train[train['label'].isin([0, 1])]\n",
    "\n",
    "# Get only label 0 and 1\n",
    "Y = train[train['label'].isin([0, 1])]['label']\n",
    "\n",
    "# Remove label from X.\n",
    "X = X.drop(['label'], axis = 1)\n"
   ]
  },
  {
   "cell_type": "markdown",
   "metadata": {},
   "source": [
    "## Activation Function\n",
    "\n",
    "We use sigmoid activation function as its output values are between 0 and 1 and it is good for binary classification."
   ]
  },
  {
   "cell_type": "markdown",
   "metadata": {},
   "source": [
    "![Sigmoid](https://upload.wikimedia.org/wikipedia/commons/thumb/8/88/Logistic-curve.svg/640px-Logistic-curve.svg.png \"Sigmoid\")\n"
   ]
  },
  {
   "cell_type": "markdown",
   "metadata": {},
   "source": [
    "![Sigmoid_Formula](https://wikimedia.org/api/rest_v1/media/math/render/svg/f6f69aad495c133ff951475da3d2ac0de3a0f571 \"Sigmoid\")\n"
   ]
  },
  {
   "cell_type": "code",
   "execution_count": 6,
   "metadata": {},
   "outputs": [],
   "source": [
    "def sigmoid(z):\n",
    "    '''\n",
    "    Sigmoid activation function\n",
    "    '''\n",
    "    \n",
    "    sigmoid = 1.0/(1 + np.exp(-z))\n",
    "\n",
    "    return sigmoid\n",
    "    \n",
    "    "
   ]
  },
  {
   "cell_type": "markdown",
   "metadata": {},
   "source": [
    "## Define Network Parameters\n",
    "\n",
    "Neural Network parameters are weights and bias. In this example we have one hidden layer.\n",
    "\n",
    "First we initialze them with zero values. \n",
    "\n",
    "The first layer only contains inputs so there are no weights and bias. (there is no W0 and b0)\n",
    "\n",
    "But the hidden layer and the output layer have a weight and bias term. (W1, b1 and W2, b2)\n"
   ]
  },
  {
   "cell_type": "code",
   "execution_count": 7,
   "metadata": {},
   "outputs": [],
   "source": [
    "def define_network_parameters(num_x, num_y, nodes_hidden):\n",
    "    '''\n",
    "    Defining all network parameters\n",
    "    '''\n",
    "    \n",
    "    # Weight and bias for one hidden layer\n",
    "    # random initialization\n",
    "    W1 = np.random.randn(nodes_hidden, num_x) * 0.01\n",
    "    # zero initialization\n",
    "    b1 = np.zeros((nodes_hidden, 1))\n",
    "    \n",
    "    # Weight and bias for one output layer\n",
    "    # random initialization\n",
    "    W2 = np.random.randn(num_y, nodes_hidden) * 0.01\n",
    "    # zero initialization \n",
    "    b2 = np.zeros((num_y, 1))\n",
    "    \n",
    "    return {\"W1\": W1, \"b1\": b1, \"W2\": W2, \"b2\": b2}\n",
    "    "
   ]
  },
  {
   "cell_type": "markdown",
   "metadata": {},
   "source": [
    "### Note:\n",
    "\n",
    "#### `np.random.randn()` vs `np.random.rand()`\n",
    "\n",
    "`np.random.randn():` generates samples from the normal distribution\n",
    "\n",
    "`np.random.rand():` generates samples from uniform distribution\n",
    "\n",
    "https://stackoverflow.com/questions/47240308/differences-between-numpy-random-rand-vs-numpy-random-randn-in-python"
   ]
  },
  {
   "cell_type": "markdown",
   "metadata": {},
   "source": [
    "## Network Forward Propagation\n",
    "\n",
    "The hidden layer and output layer will compute the activations using sigmoid activation function and will pass it in the forward direction. While computing this activation, the input is multiplied with weight and added with bias before passing it to the function.\n"
   ]
  },
  {
   "cell_type": "code",
   "execution_count": 8,
   "metadata": {},
   "outputs": [],
   "source": [
    "def forward_propagation(X, params):\n",
    "    '''\n",
    "    Network forward propagation function.\n",
    "    '''\n",
    "    \n",
    "    # Hidden layer\n",
    "    Z1 = np.dot(params[\"W1\"], X) + params[\"b1\"]\n",
    "    Active1 = sigmoid(Z1)\n",
    "    \n",
    "    # Output layer\n",
    "    Z2 = np.dot(params[\"W2\"], Active1) + params[\"b2\"]\n",
    "    Active2 = sigmoid(Z2)\n",
    "    \n",
    "    return {\"Z1\": Z1, \"Active1\": Active1, \"Z2\": Z2, \"Active2\": Active2}\n"
   ]
  },
  {
   "cell_type": "markdown",
   "metadata": {},
   "source": [
    "## Compute Network Error\n",
    "\n",
    "To be able to compute the cost one approach is to compute the absolute error (Prediction - Actual). But a better approach is the Log-Loss function which is defined as:\n",
    "\n",
    "More info:\n",
    "https://towardsdatascience.com/intuition-behind-log-loss-score-4e0c9979680a"
   ]
  },
  {
   "cell_type": "markdown",
   "metadata": {},
   "source": [
    "![logloss](https://miro.medium.com/max/1408/1*oS810EpSFnFilg9GGe2y2Q.png \"logloss\")\n"
   ]
  },
  {
   "cell_type": "markdown",
   "metadata": {},
   "source": [
    "__Loss__ function measures the error in the final layer.\n",
    "\n",
    "__Cost__ function measures the total error of the network."
   ]
  },
  {
   "cell_type": "code",
   "execution_count": 9,
   "metadata": {},
   "outputs": [],
   "source": [
    "def network_error(Predicted, Actual):\n",
    "    '''\n",
    "    Function to calculate network error\n",
    "    '''\n",
    "    \n",
    "    logLoss = np.multiply(np.log(Predicted), Actual) + np.multiply(np.log(1-Predicted), 1-Actual)\n",
    "    cost = -np.sum(logLoss) / Actual.shape[1]\n",
    "    \n",
    "    return np.squeeze(cost) # remove axes of length one\n",
    "    "
   ]
  },
  {
   "cell_type": "markdown",
   "metadata": {},
   "source": [
    "## Network Backward Propagation\n",
    "In backward propagation function, the error is passed backward to previous layers and the derivatives of weights and bias are computed.\n",
    "\n",
    "Because it is backward propagation then we start with output layer and then move back to hidden layer.\n"
   ]
  },
  {
   "cell_type": "code",
   "execution_count": 10,
   "metadata": {},
   "outputs": [],
   "source": [
    "def backward_propagation(params, activations, X, Y):\n",
    "    '''\n",
    "    Network back propagation function.\n",
    "    '''\n",
    "    \n",
    "    m = X.shape[1]\n",
    "    \n",
    "    # Output layer\n",
    "    dZ2 = activations['Active2'] - Y # compute the error derivative \n",
    "    dW2 = np.dot(dZ2, activations['Active1'].T) / m # compute the weight derivative \n",
    "    db2 = np.sum(dZ2, axis=1, keepdims=True)/m # compute the bias derivative\n",
    "    \n",
    "    # Hidden layer\n",
    "    dZ1 = np.dot(params['W2'].T, dZ2)*(1-np.power(activations['Active1'], 2))\n",
    "    dW1 = np.dot(dZ1, X.T)/m\n",
    "    db1 = np.sum(dZ1, axis=1, keepdims=True)/m\n",
    "    \n",
    "    return {\"dW1\": dW1, \"db1\": db1, \"dW2\": dW2, \"db2\": db2}\n",
    "    "
   ]
  },
  {
   "cell_type": "markdown",
   "metadata": {},
   "source": [
    "## Update Network Parameters\n",
    "\n",
    "Given the derivatives of both weight and bias we update them for both hidden and output layer.\n"
   ]
  },
  {
   "cell_type": "code",
   "execution_count": 11,
   "metadata": {},
   "outputs": [],
   "source": [
    "def update_parameters(params, derivatives, alpha=1.2):\n",
    "    '''\n",
    "    Function to update network parameters using derivatives\n",
    "    '''\n",
    "    \n",
    "    params['W1'] = params['W1'] - alpha * derivatives['dW1']\n",
    "    params['b1'] = params['b1'] - alpha * derivatives['db1']\n",
    "    params['W2'] = params['W2'] - alpha * derivatives['dW2']\n",
    "    params['b2'] = params['b2'] - alpha * derivatives['db2']\n",
    "    \n",
    "    return params\n"
   ]
  },
  {
   "cell_type": "markdown",
   "metadata": {},
   "source": [
    "## Train the Model\n",
    "\n",
    "Create a function which compiles all the key functions and creates a neural network model.\n",
    "\n"
   ]
  },
  {
   "cell_type": "code",
   "execution_count": 12,
   "metadata": {},
   "outputs": [],
   "source": [
    "def nerual_network(X, Y, nodes_hidden, num_iterations):\n",
    "    '''\n",
    "    Main neural network function\n",
    "    '''\n",
    "\n",
    "    # X shape is  (784, 7968) \n",
    "    # Y shape is (1, 7968)\n",
    "    \n",
    "    num_x = X.shape[0] #784\n",
    "    num_y = Y.shape[0] #1\n",
    "    \n",
    "    params = define_network_parameters(num_x, num_y, nodes_hidden)\n",
    "    \n",
    "    errors = []\n",
    "\n",
    "    for i in range(0, num_iterations):\n",
    "        results = forward_propagation(X, params)\n",
    "        # last layer is Active2. Compare it with Y which is true label.\n",
    "        error = network_error(results['Active2'], Y)\n",
    "        derivatives = backward_propagation(params, results, X, Y)\n",
    "        params = update_parameters(params, derivatives)\n",
    "\n",
    "        errors.append(error)\n",
    "    \n",
    "    # plot the error\n",
    "    plt.plot(np.array(errors))\n",
    "    plt.title(\"Error\")\n",
    "\n",
    "    return params\n"
   ]
  },
  {
   "cell_type": "code",
   "execution_count": 13,
   "metadata": {
    "scrolled": false
   },
   "outputs": [
    {
     "name": "stderr",
     "output_type": "stream",
     "text": [
      "/Library/Frameworks/Python.framework/Versions/3.7/lib/python3.7/site-packages/ipykernel_launcher.py:6: RuntimeWarning: overflow encountered in exp\n",
      "  \n"
     ]
    },
    {
     "data": {
      "image/png": "[encoded data removed]",
      "text/plain": [
       "<Figure size 432x288 with 1 Axes>"
      ]
     },
     "metadata": {},
     "output_type": "display_data"
    }
   ],
   "source": [
    "# prepare data to train model\n",
    "x = X.T.values\n",
    "y = Y.values.reshape(1, Y.size) # array([1, 0, 1, ..., 0, 0, 0]) to array([[1, 0, 1, ..., 0, 0, 0]])\n",
    "                                # Y.shape: (7894,)   -   y.shape: (1, 7894)\n",
    "\n",
    "# set number of nodes in our 1 hidden layer\n",
    "nodes_hidden = 10\n",
    "# set number of iterations to run the model\n",
    "num_iterations = 100\n",
    "\n",
    "# train the neural network\n",
    "model = nerual_network(x, y, nodes_hidden, num_iterations)\n"
   ]
  },
  {
   "cell_type": "markdown",
   "metadata": {},
   "source": [
    "## Prediction"
   ]
  },
  {
   "cell_type": "code",
   "execution_count": 14,
   "metadata": {},
   "outputs": [],
   "source": [
    "def predict(X, parameters):\n",
    "    '''\n",
    "    Function to predict digit from image\n",
    "    '''\n",
    "    results = forward_propagation(X, parameters)\n",
    "    predictions = np.around(results['Active2'])\n",
    "    return predictions\n"
   ]
  },
  {
   "cell_type": "code",
   "execution_count": 15,
   "metadata": {},
   "outputs": [
    {
     "name": "stdout",
     "output_type": "stream",
     "text": [
      "Train Accuracy: 98%\n"
     ]
    },
    {
     "name": "stderr",
     "output_type": "stream",
     "text": [
      "/Library/Frameworks/Python.framework/Versions/3.7/lib/python3.7/site-packages/ipykernel_launcher.py:6: RuntimeWarning: overflow encountered in exp\n",
      "  \n"
     ]
    }
   ],
   "source": [
    "predictions = predict(x, model)\n",
    "print ('Train Accuracy: %d' % float((np.dot(y, predictions.T) + np.dot(1-y, 1-predictions.T))/float(y.size)*100) + '%')\n"
   ]
  },
  {
   "cell_type": "code",
   "execution_count": 16,
   "metadata": {},
   "outputs": [
    {
     "name": "stdout",
     "output_type": "stream",
     "text": [
      "Validation Accuracy: 97%\n"
     ]
    },
    {
     "name": "stderr",
     "output_type": "stream",
     "text": [
      "/Library/Frameworks/Python.framework/Versions/3.7/lib/python3.7/site-packages/ipykernel_launcher.py:10: FutureWarning: Method .as_matrix will be removed in a future version. Use .values instead.\n",
      "  # Remove the CWD from sys.path while we load stuff.\n",
      "/Library/Frameworks/Python.framework/Versions/3.7/lib/python3.7/site-packages/ipykernel_launcher.py:6: RuntimeWarning: overflow encountered in exp\n",
      "  \n"
     ]
    }
   ],
   "source": [
    "# Get datapoint with only label 0 and 1\n",
    "X_validation = validation[validation['label'].isin([0, 1])]\n",
    "\n",
    "# Get only label 0 and 1\n",
    "Y_validation = validation[validation['label'].isin([0, 1])]['label']\n",
    "\n",
    "# Remove label from X.\n",
    "X_validation = X_validation.drop(['label'], axis = 1)\n",
    "\n",
    "x_validation = X_validation.T.as_matrix()\n",
    "y_validation = Y_validation.values.reshape(1, Y_validation.size)\n",
    "\n",
    "predictions_validation = predict(x_validation, model)\n",
    "print ('Validation Accuracy: %d' % float((np.dot(y_validation, predictions_validation.T) + np.dot(1-y_validation, 1-predictions_validation.T))/float(y_validation.size)*100) + '%')\n"
   ]
  },
  {
   "cell_type": "markdown",
   "metadata": {},
   "source": [
    "#### Source: https://www.kaggle.com/shivamb/a-very-comprehensive-tutorial-nn-cnn"
   ]
  },
  {
   "cell_type": "code",
   "execution_count": null,
   "metadata": {},
   "outputs": [],
   "source": []
  }
 ],
 "metadata": {
  "kernelspec": {
   "display_name": "Python 3",
   "language": "python",
   "name": "python3"
  },
  "language_info": {
   "codemirror_mode": {
    "name": "ipython",
    "version": 3
   },
   "file_extension": ".py",
   "mimetype": "text/x-python",
   "name": "python",
   "nbconvert_exporter": "python",
   "pygments_lexer": "ipython3",
   "version": "3.7.0b2"
  }
 },
 "nbformat": 4,
 "nbformat_minor": 2
}
